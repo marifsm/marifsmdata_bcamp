{
 "cells": [
  {
   "cell_type": "markdown",
   "metadata": {},
   "source": [
    "<h1>Lambda Functions</h1>\n",
    "\n",
    "<p>Broadly speaking, lambda functions are nameless functions that we intend to use only one time."
   ]
  },
  {
   "cell_type": "code",
   "execution_count": 1,
   "metadata": {},
   "outputs": [],
   "source": [
    "#Defining a Function\n",
    "def squared(x):\n",
    "    return x ** 2"
   ]
  },
  {
   "cell_type": "code",
   "execution_count": 2,
   "metadata": {},
   "outputs": [
    {
     "name": "stdout",
     "output_type": "stream",
     "text": [
      "[1, 2, 3, 4, 5, 6, 7, 8, 9, 10, 11, 12, 13, 14, 15, 16, 17, 18, 19, 20, 21, 22, 23, 24, 25, 26, 27, 28, 29, 30, 31, 32, 33, 34, 35, 36, 37, 38, 39, 40, 41, 42, 43, 44, 45, 46, 47, 48, 49, 50, 51, 52, 53, 54, 55, 56, 57, 58, 59, 60, 61, 62, 63, 64, 65, 66, 67, 68, 69, 70, 71, 72, 73, 74, 75, 76, 77, 78, 79, 80, 81, 82, 83, 84, 85, 86, 87, 88, 89, 90, 91, 92, 93, 94, 95, 96, 97, 98, 99, 100]\n"
     ]
    }
   ],
   "source": [
    "#Creating a list of the integers between 1 and 100\n",
    "lst = [i+1 for i in range(100)]\n",
    "print(lst)"
   ]
  },
  {
   "cell_type": "code",
   "execution_count": 3,
   "metadata": {},
   "outputs": [
    {
     "name": "stdout",
     "output_type": "stream",
     "text": [
      "[1, 4, 9, 16, 25, 36, 49, 64, 81, 100, 121, 144, 169, 196, 225, 256, 289, 324, 361, 400, 441, 484, 529, 576, 625, 676, 729, 784, 841, 900, 961, 1024, 1089, 1156, 1225, 1296, 1369, 1444, 1521, 1600, 1681, 1764, 1849, 1936, 2025, 2116, 2209, 2304, 2401, 2500, 2601, 2704, 2809, 2916, 3025, 3136, 3249, 3364, 3481, 3600, 3721, 3844, 3969, 4096, 4225, 4356, 4489, 4624, 4761, 4900, 5041, 5184, 5329, 5476, 5625, 5776, 5929, 6084, 6241, 6400, 6561, 6724, 6889, 7056, 7225, 7396, 7569, 7744, 7921, 8100, 8281, 8464, 8649, 8836, 9025, 9216, 9409, 9604, 9801, 10000]\n"
     ]
    }
   ],
   "source": [
    "#Creating an empty list\n",
    "squared_list = []\n",
    "\n",
    "#Iterating through the lst object\n",
    "for num in lst:\n",
    "    #Applying the squared function to each object and appending them to the empty list\n",
    "    squared_list.append(squared(num))\n",
    "    \n",
    "print(squared_list)"
   ]
  },
  {
   "cell_type": "code",
   "execution_count": 4,
   "metadata": {},
   "outputs": [
    {
     "name": "stdout",
     "output_type": "stream",
     "text": [
      "[1, 4, 9, 16, 25, 36, 49, 64, 81, 100, 121, 144, 169, 196, 225, 256, 289, 324, 361, 400, 441, 484, 529, 576, 625, 676, 729, 784, 841, 900, 961, 1024, 1089, 1156, 1225, 1296, 1369, 1444, 1521, 1600, 1681, 1764, 1849, 1936, 2025, 2116, 2209, 2304, 2401, 2500, 2601, 2704, 2809, 2916, 3025, 3136, 3249, 3364, 3481, 3600, 3721, 3844, 3969, 4096, 4225, 4356, 4489, 4624, 4761, 4900, 5041, 5184, 5329, 5476, 5625, 5776, 5929, 6084, 6241, 6400, 6561, 6724, 6889, 7056, 7225, 7396, 7569, 7744, 7921, 8100, 8281, 8464, 8649, 8836, 9025, 9216, 9409, 9604, 9801, 10000]\n"
     ]
    }
   ],
   "source": [
    "#Creating the same output with a lambda function\n",
    "squared_list2 = []\n",
    "\n",
    "for num in lst:\n",
    "    squared_list2.append((lambda x: x**2)(num))\n",
    "\n",
    "print(squared_list2)"
   ]
  },
  {
   "cell_type": "markdown",
   "metadata": {},
   "source": [
    "Why do we have to use the following structure?\n",
    "\n",
    "**(lambda x: x ** 2)(num)**"
   ]
  },
  {
   "cell_type": "code",
   "execution_count": 5,
   "metadata": {},
   "outputs": [
    {
     "name": "stdout",
     "output_type": "stream",
     "text": [
      "[<function <lambda> at 0x000001E293F9E510>, <function <lambda> at 0x000001E293F9E048>, <function <lambda> at 0x000001E293F9E378>, <function <lambda> at 0x000001E293F9E620>, <function <lambda> at 0x000001E293F9E6A8>, <function <lambda> at 0x000001E293F9E730>, <function <lambda> at 0x000001E293F9E7B8>, <function <lambda> at 0x000001E293F9E840>, <function <lambda> at 0x000001E293F9E8C8>, <function <lambda> at 0x000001E293F9E950>, <function <lambda> at 0x000001E293F9E9D8>, <function <lambda> at 0x000001E293F9EA60>, <function <lambda> at 0x000001E293F9EAE8>, <function <lambda> at 0x000001E293F9EB70>, <function <lambda> at 0x000001E293F9EBF8>, <function <lambda> at 0x000001E293F9EC80>, <function <lambda> at 0x000001E293F9ED08>, <function <lambda> at 0x000001E293F9ED90>, <function <lambda> at 0x000001E293F9EE18>, <function <lambda> at 0x000001E293F9EEA0>, <function <lambda> at 0x000001E293F9EF28>, <function <lambda> at 0x000001E293FBD048>, <function <lambda> at 0x000001E293FBD0D0>, <function <lambda> at 0x000001E293FBD158>, <function <lambda> at 0x000001E293FBD1E0>, <function <lambda> at 0x000001E293FBD268>, <function <lambda> at 0x000001E293FBD2F0>, <function <lambda> at 0x000001E293FBD378>, <function <lambda> at 0x000001E293FBD400>, <function <lambda> at 0x000001E293FBD488>, <function <lambda> at 0x000001E293FBD510>, <function <lambda> at 0x000001E293FBD598>, <function <lambda> at 0x000001E293FBD620>, <function <lambda> at 0x000001E293FBD6A8>, <function <lambda> at 0x000001E293FBD730>, <function <lambda> at 0x000001E293FBD7B8>, <function <lambda> at 0x000001E293FBD840>, <function <lambda> at 0x000001E293FBD8C8>, <function <lambda> at 0x000001E293FBD950>, <function <lambda> at 0x000001E293FBD9D8>, <function <lambda> at 0x000001E293FBDA60>, <function <lambda> at 0x000001E293FBDAE8>, <function <lambda> at 0x000001E293FBDB70>, <function <lambda> at 0x000001E293FBDBF8>, <function <lambda> at 0x000001E293FBDC80>, <function <lambda> at 0x000001E293FBDD08>, <function <lambda> at 0x000001E293FBDD90>, <function <lambda> at 0x000001E293FBDE18>, <function <lambda> at 0x000001E293FBDEA0>, <function <lambda> at 0x000001E293FBDF28>, <function <lambda> at 0x000001E293FC5048>, <function <lambda> at 0x000001E293FC50D0>, <function <lambda> at 0x000001E293FC5158>, <function <lambda> at 0x000001E293FC51E0>, <function <lambda> at 0x000001E293FC5268>, <function <lambda> at 0x000001E293FC52F0>, <function <lambda> at 0x000001E293FC5378>, <function <lambda> at 0x000001E293FC5400>, <function <lambda> at 0x000001E293FC5488>, <function <lambda> at 0x000001E293FC5510>, <function <lambda> at 0x000001E293FC5598>, <function <lambda> at 0x000001E293FC5620>, <function <lambda> at 0x000001E293FC56A8>, <function <lambda> at 0x000001E293FC5730>, <function <lambda> at 0x000001E293FC57B8>, <function <lambda> at 0x000001E293FC5840>, <function <lambda> at 0x000001E293FC58C8>, <function <lambda> at 0x000001E293FC5950>, <function <lambda> at 0x000001E293FC59D8>, <function <lambda> at 0x000001E293FC5A60>, <function <lambda> at 0x000001E293FC5AE8>, <function <lambda> at 0x000001E293FC5B70>, <function <lambda> at 0x000001E293FC5BF8>, <function <lambda> at 0x000001E293FC5C80>, <function <lambda> at 0x000001E293FC5D08>, <function <lambda> at 0x000001E293FC5D90>, <function <lambda> at 0x000001E293FC5E18>, <function <lambda> at 0x000001E293FC5EA0>, <function <lambda> at 0x000001E293FC5F28>, <function <lambda> at 0x000001E293FC6048>, <function <lambda> at 0x000001E293FC60D0>, <function <lambda> at 0x000001E293FC6158>, <function <lambda> at 0x000001E293FC61E0>, <function <lambda> at 0x000001E293FC6268>, <function <lambda> at 0x000001E293FC62F0>, <function <lambda> at 0x000001E293FC6378>, <function <lambda> at 0x000001E293FC6400>, <function <lambda> at 0x000001E293FC6488>, <function <lambda> at 0x000001E293FC6510>, <function <lambda> at 0x000001E293FC6598>, <function <lambda> at 0x000001E293FC6620>, <function <lambda> at 0x000001E293FC66A8>, <function <lambda> at 0x000001E293FC6730>, <function <lambda> at 0x000001E293FC67B8>, <function <lambda> at 0x000001E293FC6840>, <function <lambda> at 0x000001E293FC68C8>, <function <lambda> at 0x000001E293FC6950>, <function <lambda> at 0x000001E293FC69D8>, <function <lambda> at 0x000001E293FC6A60>, <function <lambda> at 0x000001E293FC6AE8>]\n"
     ]
    }
   ],
   "source": [
    "#Creating the same output with a lambda function\n",
    "squared_list2 = []\n",
    "\n",
    "for num in lst:\n",
    "    squared_list2.append(lambda x: x**2)\n",
    "\n",
    "print(squared_list2)"
   ]
  },
  {
   "cell_type": "code",
   "execution_count": 6,
   "metadata": {},
   "outputs": [
    {
     "data": {
      "text/plain": [
       "<function __main__.<lambda>(x)>"
      ]
     },
     "execution_count": 6,
     "metadata": {},
     "output_type": "execute_result"
    }
   ],
   "source": [
    "squared_list2[0]"
   ]
  },
  {
   "cell_type": "code",
   "execution_count": 7,
   "metadata": {},
   "outputs": [
    {
     "data": {
      "text/plain": [
       "4"
      ]
     },
     "execution_count": 7,
     "metadata": {},
     "output_type": "execute_result"
    }
   ],
   "source": [
    "squared_list2[0](2)"
   ]
  },
  {
   "cell_type": "markdown",
   "metadata": {},
   "source": [
    "We can assign lambda functions to variables"
   ]
  },
  {
   "cell_type": "code",
   "execution_count": 8,
   "metadata": {},
   "outputs": [],
   "source": [
    "a = lambda x: x** 2"
   ]
  },
  {
   "cell_type": "code",
   "execution_count": 9,
   "metadata": {},
   "outputs": [
    {
     "name": "stdout",
     "output_type": "stream",
     "text": [
      "<function <lambda> at 0x000001E293FC6BF8>\n"
     ]
    }
   ],
   "source": [
    "print(a)"
   ]
  },
  {
   "cell_type": "code",
   "execution_count": 10,
   "metadata": {},
   "outputs": [
    {
     "data": {
      "text/plain": [
       "function"
      ]
     },
     "execution_count": 10,
     "metadata": {},
     "output_type": "execute_result"
    }
   ],
   "source": [
    "type(a)"
   ]
  },
  {
   "cell_type": "code",
   "execution_count": 11,
   "metadata": {},
   "outputs": [
    {
     "data": {
      "text/plain": [
       "4"
      ]
     },
     "execution_count": 11,
     "metadata": {},
     "output_type": "execute_result"
    }
   ],
   "source": [
    "a(2)"
   ]
  },
  {
   "cell_type": "markdown",
   "metadata": {},
   "source": [
    "<h2>General Examples</h2>"
   ]
  },
  {
   "cell_type": "code",
   "execution_count": 12,
   "metadata": {},
   "outputs": [
    {
     "data": {
      "text/plain": [
       "['célia', 'lucas', 'rodney', 'henrique', 'marianna', 'rafael']"
      ]
     },
     "execution_count": 12,
     "metadata": {},
     "output_type": "execute_result"
    }
   ],
   "source": [
    "#We have a list with the names of some of the students of the DA Bootcamp\n",
    "#I want to return their names in lower case\n",
    "\n",
    "student_list = ['Célia', 'Lucas', 'Rodney', 'Henrique', 'Marianna', 'Rafael']\n",
    "\n",
    "std_list_lower = [(lambda x: x.lower())(name) for name in student_list]\n",
    "\n",
    "std_list_lower"
   ]
  },
  {
   "cell_type": "code",
   "execution_count": 13,
   "metadata": {},
   "outputs": [
    {
     "name": "stdout",
     "output_type": "stream",
     "text": [
      "['Célia', 'Henrique', 'Lucas', 'Marianna', 'Rafael', 'Rodney']\n"
     ]
    }
   ],
   "source": [
    "#Now, I want to sort their names\n",
    "student_list.sort()\n",
    "print(student_list)"
   ]
  },
  {
   "cell_type": "code",
   "execution_count": 14,
   "metadata": {},
   "outputs": [
    {
     "data": {
      "text/plain": [
       "['Lucas', 'Rodney', 'Rafael', 'Célia', 'Henrique', 'Marianna']"
      ]
     },
     "execution_count": 14,
     "metadata": {},
     "output_type": "execute_result"
    }
   ],
   "source": [
    "#What if I want to sort their names based on the third letter of their name\n",
    "sorted(student_list, key=lambda x:x[2])"
   ]
  },
  {
   "cell_type": "code",
   "execution_count": 15,
   "metadata": {},
   "outputs": [
    {
     "data": {
      "text/plain": [
       "['Célia', 'Marianna', 'Henrique', 'Rafael', 'Lucas', 'Rodney']"
      ]
     },
     "execution_count": 15,
     "metadata": {},
     "output_type": "execute_result"
    }
   ],
   "source": [
    "#We can do the same thing if we want to sort based on the last char of their name\n",
    "sorted(student_list, key=lambda x:x[-1])"
   ]
  },
  {
   "cell_type": "code",
   "execution_count": 16,
   "metadata": {},
   "outputs": [
    {
     "name": "stdout",
     "output_type": "stream",
     "text": [
      "[0, 0, 0, 0, 0, 0]\n"
     ]
    }
   ],
   "source": [
    "#Using if statements to return 1 if the name of the student starts with a vowel and 0 if its starts with a consonant\n",
    "\n",
    "std_list_vowel = [(lambda x: 1 if x[0].lower() in 'aeiou' else 0)(name) for name in student_list]\n",
    "\n",
    "print(std_list_vowel)"
   ]
  },
  {
   "cell_type": "code",
   "execution_count": 17,
   "metadata": {},
   "outputs": [
    {
     "name": "stdout",
     "output_type": "stream",
     "text": [
      "['Célia', 'Henrique', 'Lucas', 'Marianna', 'Rafael', 'Rodney']\n",
      "[1, 0, 1, 1, 1, 0]\n"
     ]
    }
   ],
   "source": [
    "print(student_list)\n",
    "\n",
    "std_list_vowel = [(lambda x: 1 if x[3].lower() in 'aeiou' else 0)(name) for name in student_list]\n",
    "\n",
    "print(std_list_vowel)"
   ]
  },
  {
   "cell_type": "markdown",
   "metadata": {},
   "source": [
    "<h2>Data Analysis Examples</h2>"
   ]
  },
  {
   "cell_type": "code",
   "execution_count": 18,
   "metadata": {},
   "outputs": [
    {
     "data": {
      "text/html": [
       "<div>\n",
       "<style scoped>\n",
       "    .dataframe tbody tr th:only-of-type {\n",
       "        vertical-align: middle;\n",
       "    }\n",
       "\n",
       "    .dataframe tbody tr th {\n",
       "        vertical-align: top;\n",
       "    }\n",
       "\n",
       "    .dataframe thead th {\n",
       "        text-align: right;\n",
       "    }\n",
       "</style>\n",
       "<table border=\"1\" class=\"dataframe\">\n",
       "  <thead>\n",
       "    <tr style=\"text-align: right;\">\n",
       "      <th></th>\n",
       "      <th>sepal_length</th>\n",
       "      <th>sepal_width</th>\n",
       "      <th>petal_length</th>\n",
       "      <th>petal_width</th>\n",
       "      <th>iris_type</th>\n",
       "    </tr>\n",
       "  </thead>\n",
       "  <tbody>\n",
       "    <tr>\n",
       "      <th>0</th>\n",
       "      <td>5.1</td>\n",
       "      <td>3.5</td>\n",
       "      <td>1.4</td>\n",
       "      <td>0.2</td>\n",
       "      <td>Iris-setosa</td>\n",
       "    </tr>\n",
       "    <tr>\n",
       "      <th>1</th>\n",
       "      <td>4.9</td>\n",
       "      <td>3.0</td>\n",
       "      <td>1.4</td>\n",
       "      <td>0.2</td>\n",
       "      <td>Iris-setosa</td>\n",
       "    </tr>\n",
       "    <tr>\n",
       "      <th>2</th>\n",
       "      <td>4.7</td>\n",
       "      <td>3.2</td>\n",
       "      <td>1.3</td>\n",
       "      <td>0.2</td>\n",
       "      <td>Iris-setosa</td>\n",
       "    </tr>\n",
       "    <tr>\n",
       "      <th>3</th>\n",
       "      <td>4.6</td>\n",
       "      <td>3.1</td>\n",
       "      <td>1.5</td>\n",
       "      <td>0.2</td>\n",
       "      <td>Iris-setosa</td>\n",
       "    </tr>\n",
       "    <tr>\n",
       "      <th>4</th>\n",
       "      <td>5.0</td>\n",
       "      <td>3.6</td>\n",
       "      <td>1.4</td>\n",
       "      <td>0.2</td>\n",
       "      <td>Iris-setosa</td>\n",
       "    </tr>\n",
       "  </tbody>\n",
       "</table>\n",
       "</div>"
      ],
      "text/plain": [
       "   sepal_length  sepal_width  petal_length  petal_width    iris_type\n",
       "0           5.1          3.5           1.4          0.2  Iris-setosa\n",
       "1           4.9          3.0           1.4          0.2  Iris-setosa\n",
       "2           4.7          3.2           1.3          0.2  Iris-setosa\n",
       "3           4.6          3.1           1.5          0.2  Iris-setosa\n",
       "4           5.0          3.6           1.4          0.2  Iris-setosa"
      ]
     },
     "execution_count": 18,
     "metadata": {},
     "output_type": "execute_result"
    }
   ],
   "source": [
    "import pandas as pd\n",
    "\n",
    "columns = ['sepal_length', 'sepal_width', 'petal_length','petal_width','iris_type']\n",
    "iris = pd.read_csv(\"https://archive.ics.uci.edu/ml/machine-learning-databases/iris/iris.data\", names=columns)\n",
    "\n",
    "iris.head()"
   ]
  },
  {
   "cell_type": "code",
   "execution_count": 19,
   "metadata": {},
   "outputs": [
    {
     "data": {
      "text/html": [
       "<div>\n",
       "<style scoped>\n",
       "    .dataframe tbody tr th:only-of-type {\n",
       "        vertical-align: middle;\n",
       "    }\n",
       "\n",
       "    .dataframe tbody tr th {\n",
       "        vertical-align: top;\n",
       "    }\n",
       "\n",
       "    .dataframe thead th {\n",
       "        text-align: right;\n",
       "    }\n",
       "</style>\n",
       "<table border=\"1\" class=\"dataframe\">\n",
       "  <thead>\n",
       "    <tr style=\"text-align: right;\">\n",
       "      <th></th>\n",
       "      <th>sepal_length</th>\n",
       "      <th>sepal_width</th>\n",
       "      <th>petal_length</th>\n",
       "      <th>petal_width</th>\n",
       "    </tr>\n",
       "  </thead>\n",
       "  <tbody>\n",
       "    <tr>\n",
       "      <th>0</th>\n",
       "      <td>5.1</td>\n",
       "      <td>3.5</td>\n",
       "      <td>1.4</td>\n",
       "      <td>0.2</td>\n",
       "    </tr>\n",
       "    <tr>\n",
       "      <th>1</th>\n",
       "      <td>4.9</td>\n",
       "      <td>3.0</td>\n",
       "      <td>1.4</td>\n",
       "      <td>0.2</td>\n",
       "    </tr>\n",
       "    <tr>\n",
       "      <th>2</th>\n",
       "      <td>4.7</td>\n",
       "      <td>3.2</td>\n",
       "      <td>1.3</td>\n",
       "      <td>0.2</td>\n",
       "    </tr>\n",
       "    <tr>\n",
       "      <th>3</th>\n",
       "      <td>4.6</td>\n",
       "      <td>3.1</td>\n",
       "      <td>1.5</td>\n",
       "      <td>0.2</td>\n",
       "    </tr>\n",
       "    <tr>\n",
       "      <th>4</th>\n",
       "      <td>5.0</td>\n",
       "      <td>3.6</td>\n",
       "      <td>1.4</td>\n",
       "      <td>0.2</td>\n",
       "    </tr>\n",
       "  </tbody>\n",
       "</table>\n",
       "</div>"
      ],
      "text/plain": [
       "   sepal_length  sepal_width  petal_length  petal_width\n",
       "0           5.1          3.5           1.4          0.2\n",
       "1           4.9          3.0           1.4          0.2\n",
       "2           4.7          3.2           1.3          0.2\n",
       "3           4.6          3.1           1.5          0.2\n",
       "4           5.0          3.6           1.4          0.2"
      ]
     },
     "execution_count": 19,
     "metadata": {},
     "output_type": "execute_result"
    }
   ],
   "source": [
    "iris._get_numeric_data().head()"
   ]
  },
  {
   "cell_type": "code",
   "execution_count": 20,
   "metadata": {},
   "outputs": [
    {
     "data": {
      "text/plain": [
       "5.8"
      ]
     },
     "execution_count": 20,
     "metadata": {},
     "output_type": "execute_result"
    }
   ],
   "source": [
    "iris['sepal_length'].median()"
   ]
  },
  {
   "cell_type": "code",
   "execution_count": 21,
   "metadata": {},
   "outputs": [
    {
     "data": {
      "text/plain": [
       "0         Less than the median\n",
       "1         Less than the median\n",
       "2         Less than the median\n",
       "3         Less than the median\n",
       "4         Less than the median\n",
       "5         Less than the median\n",
       "6         Less than the median\n",
       "7         Less than the median\n",
       "8         Less than the median\n",
       "9         Less than the median\n",
       "10        Less than the median\n",
       "11        Less than the median\n",
       "12        Less than the median\n",
       "13        Less than the median\n",
       "14        Less than the median\n",
       "15        Less than the median\n",
       "16        Less than the median\n",
       "17        Less than the median\n",
       "18        Less than the median\n",
       "19        Less than the median\n",
       "20        Less than the median\n",
       "21        Less than the median\n",
       "22        Less than the median\n",
       "23        Less than the median\n",
       "24        Less than the median\n",
       "25        Less than the median\n",
       "26        Less than the median\n",
       "27        Less than the median\n",
       "28        Less than the median\n",
       "29        Less than the median\n",
       "                ...           \n",
       "120    Greater than the median\n",
       "121       Less than the median\n",
       "122    Greater than the median\n",
       "123    Greater than the median\n",
       "124    Greater than the median\n",
       "125    Greater than the median\n",
       "126    Greater than the median\n",
       "127    Greater than the median\n",
       "128    Greater than the median\n",
       "129    Greater than the median\n",
       "130    Greater than the median\n",
       "131    Greater than the median\n",
       "132    Greater than the median\n",
       "133    Greater than the median\n",
       "134    Greater than the median\n",
       "135    Greater than the median\n",
       "136    Greater than the median\n",
       "137    Greater than the median\n",
       "138    Greater than the median\n",
       "139    Greater than the median\n",
       "140    Greater than the median\n",
       "141    Greater than the median\n",
       "142       Less than the median\n",
       "143    Greater than the median\n",
       "144    Greater than the median\n",
       "145    Greater than the median\n",
       "146    Greater than the median\n",
       "147    Greater than the median\n",
       "148    Greater than the median\n",
       "149    Greater than the median\n",
       "Name: sepal_length, Length: 150, dtype: object"
      ]
     },
     "execution_count": 21,
     "metadata": {},
     "output_type": "execute_result"
    }
   ],
   "source": [
    "iris['sepal_length'].apply(lambda x: \"Greater than the median\"\n",
    "                           if x > iris['sepal_length'].median() else \"Less than the median\")"
   ]
  },
  {
   "cell_type": "code",
   "execution_count": 22,
   "metadata": {},
   "outputs": [
    {
     "data": {
      "text/html": [
       "<div>\n",
       "<style scoped>\n",
       "    .dataframe tbody tr th:only-of-type {\n",
       "        vertical-align: middle;\n",
       "    }\n",
       "\n",
       "    .dataframe tbody tr th {\n",
       "        vertical-align: top;\n",
       "    }\n",
       "\n",
       "    .dataframe thead th {\n",
       "        text-align: right;\n",
       "    }\n",
       "</style>\n",
       "<table border=\"1\" class=\"dataframe\">\n",
       "  <thead>\n",
       "    <tr style=\"text-align: right;\">\n",
       "      <th></th>\n",
       "      <th>sepal_length</th>\n",
       "      <th>petal_width</th>\n",
       "    </tr>\n",
       "  </thead>\n",
       "  <tbody>\n",
       "    <tr>\n",
       "      <th>0</th>\n",
       "      <td>5.1</td>\n",
       "      <td>0.2</td>\n",
       "    </tr>\n",
       "    <tr>\n",
       "      <th>1</th>\n",
       "      <td>4.9</td>\n",
       "      <td>0.2</td>\n",
       "    </tr>\n",
       "    <tr>\n",
       "      <th>2</th>\n",
       "      <td>4.7</td>\n",
       "      <td>0.2</td>\n",
       "    </tr>\n",
       "    <tr>\n",
       "      <th>3</th>\n",
       "      <td>4.6</td>\n",
       "      <td>0.2</td>\n",
       "    </tr>\n",
       "    <tr>\n",
       "      <th>4</th>\n",
       "      <td>5.0</td>\n",
       "      <td>0.2</td>\n",
       "    </tr>\n",
       "  </tbody>\n",
       "</table>\n",
       "</div>"
      ],
      "text/plain": [
       "   sepal_length  petal_width\n",
       "0           5.1          0.2\n",
       "1           4.9          0.2\n",
       "2           4.7          0.2\n",
       "3           4.6          0.2\n",
       "4           5.0          0.2"
      ]
     },
     "execution_count": 22,
     "metadata": {},
     "output_type": "execute_result"
    }
   ],
   "source": [
    "iris[['sepal_length','petal_width']].head()"
   ]
  },
  {
   "cell_type": "code",
   "execution_count": 23,
   "metadata": {},
   "outputs": [
    {
     "data": {
      "text/html": [
       "<div>\n",
       "<style scoped>\n",
       "    .dataframe tbody tr th:only-of-type {\n",
       "        vertical-align: middle;\n",
       "    }\n",
       "\n",
       "    .dataframe tbody tr th {\n",
       "        vertical-align: top;\n",
       "    }\n",
       "\n",
       "    .dataframe thead th {\n",
       "        text-align: right;\n",
       "    }\n",
       "</style>\n",
       "<table border=\"1\" class=\"dataframe\">\n",
       "  <thead>\n",
       "    <tr style=\"text-align: right;\">\n",
       "      <th></th>\n",
       "      <th>sepal_length</th>\n",
       "      <th>petal_width</th>\n",
       "    </tr>\n",
       "  </thead>\n",
       "  <tbody>\n",
       "    <tr>\n",
       "      <th>0</th>\n",
       "      <td>7.1</td>\n",
       "      <td>2.2</td>\n",
       "    </tr>\n",
       "    <tr>\n",
       "      <th>1</th>\n",
       "      <td>6.9</td>\n",
       "      <td>2.2</td>\n",
       "    </tr>\n",
       "    <tr>\n",
       "      <th>2</th>\n",
       "      <td>6.7</td>\n",
       "      <td>2.2</td>\n",
       "    </tr>\n",
       "    <tr>\n",
       "      <th>3</th>\n",
       "      <td>6.6</td>\n",
       "      <td>2.2</td>\n",
       "    </tr>\n",
       "    <tr>\n",
       "      <th>4</th>\n",
       "      <td>7.0</td>\n",
       "      <td>2.2</td>\n",
       "    </tr>\n",
       "  </tbody>\n",
       "</table>\n",
       "</div>"
      ],
      "text/plain": [
       "   sepal_length  petal_width\n",
       "0           7.1          2.2\n",
       "1           6.9          2.2\n",
       "2           6.7          2.2\n",
       "3           6.6          2.2\n",
       "4           7.0          2.2"
      ]
     },
     "execution_count": 23,
     "metadata": {},
     "output_type": "execute_result"
    }
   ],
   "source": [
    "iris[['sepal_length','petal_width']].apply(lambda x: x + 2).head()"
   ]
  }
 ],
 "metadata": {
  "kernelspec": {
   "display_name": "Python 3",
   "language": "python",
   "name": "python3"
  },
  "language_info": {
   "codemirror_mode": {
    "name": "ipython",
    "version": 3
   },
   "file_extension": ".py",
   "mimetype": "text/x-python",
   "name": "python",
   "nbconvert_exporter": "python",
   "pygments_lexer": "ipython3",
   "version": "3.7.3"
  }
 },
 "nbformat": 4,
 "nbformat_minor": 2
}
