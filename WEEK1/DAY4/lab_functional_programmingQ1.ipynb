{
 "cells": [
  {
   "cell_type": "markdown",
   "metadata": {},
   "source": [
    "In the cell below, create a Python function that wraps your previous solution for the Bag of Words lab.\n",
    "\n",
    "Requirements:\n",
    "\n",
    "1. Your function should accept the following parameters:\n",
    "    * `docs` [REQUIRED] - array of document paths.\n",
    "    * `stop_words` [OPTIONAL] - array of stop words. The default value is an empty array.\n",
    "\n",
    "1. Your function should return a Python object that contains the following:\n",
    "    * `bag_of_words` - array of strings of normalized unique words in the corpus.\n",
    "    * `term_freq` - array of the term-frequency vectors."
   ]
  },
  {
   "cell_type": "code",
   "execution_count": 1,
   "metadata": {},
   "outputs": [],
   "source": [
    "import re"
   ]
  },
  {
   "cell_type": "code",
   "execution_count": 2,
   "metadata": {},
   "outputs": [],
   "source": [
    "docs = ['doc1.txt', 'doc2.txt', 'doc3.txt']"
   ]
  },
  {
   "cell_type": "code",
   "execution_count": 9,
   "metadata": {},
   "outputs": [],
   "source": [
    "\n",
    "def get_bow_from_docs(docs, stop_words=[]):\n",
    "    \n",
    "# In the function, first define the variables you will use such as `corpus`, `bag_of_words`, and `term_freq`.\n",
    "    corpus = []\n",
    "    bag_of_words = []\n",
    "    words=[] \n",
    "    term_freq=[]\n",
    "    \"\"\"\n",
    "    Loop `docs` and read the content of each doc into a string in `corpus`.\n",
    "    Remember to convert the doc content to lowercases and remove punctuation.\n",
    "    \"\"\"\n",
    "    for i in docs:\n",
    "        f = open(i,\"r\")\n",
    "        corpus.append(f.read())\n",
    "    for i in range(len(corpus)):\n",
    "        corpus[i] = \"\".join(corpus[i].split(\".\")).casefold()\n",
    "    \"\"\"\n",
    "    Loop `corpus`. Append the terms in each doc into the `bag_of_words` array. The terms in `bag_of_words` \n",
    "    should be unique which means before adding each term you need to check if it's already added to the array.\n",
    "    In addition, check if each term is in the `stop_words` array. Only append the term to `bag_of_words`\n",
    "    if it is not a stop word.\n",
    "    \"\"\"\n",
    "    for name in corpus:\n",
    "        words.append(name.split(\" \"))\n",
    "    for sublist in words: ##How to make a flat list out of list of lists\n",
    "        for item in sublist:\n",
    "            if item in bag_of_words:\n",
    "                pass\n",
    "            else:\n",
    "                bag_of_words.append(item)\n",
    "       \n",
    "    \"\"\"\n",
    "    Loop `corpus` again. For each doc string, count the number of occurrences of each term in `bag_of_words`. \n",
    "    Create an array for each doc's term frequency and append it to `term_freq`.\n",
    "    \"\"\"\n",
    "    i = 0\n",
    "    for x in corpus:\n",
    "        term_freq.append([])\n",
    "        for word in bag_of_words:\n",
    "            c = x.count(word)\n",
    "            term_freq[i].append(c)\n",
    "        i+=1\n",
    "\n",
    "    # Now return your output as an object\n",
    "    return term_freq, bag_of_words\n",
    "    "
   ]
  },
  {
   "cell_type": "markdown",
   "metadata": {},
   "source": [
    "Test your function without stop words. You should see the output like below:\n",
    "\n",
    "```{'bag_of_words': ['ironhack', 'is', 'cool', 'i', 'love', 'am', 'a', 'student', 'at'], 'term_freq': [[1, 1, 1, 0, 0, 0, 0, 0, 0], [1, 0, 0, 1, 1, 0, 0, 0, 0], [1, 0, 0, 1, 0, 1, 1, 1, 1]]}```"
   ]
  },
  {
   "cell_type": "code",
   "execution_count": 4,
   "metadata": {},
   "outputs": [],
   "source": [
    "# Define doc paths array\n",
    "docs = ['doc1.txt',\n",
    "       'doc2.txt',\n",
    "       'doc3.txt']"
   ]
  },
  {
   "cell_type": "code",
   "execution_count": 10,
   "metadata": {},
   "outputs": [],
   "source": [
    "# Obtain BoW from your function\n",
    "bow = get_bow_from_docs(docs)"
   ]
  },
  {
   "cell_type": "code",
   "execution_count": 11,
   "metadata": {},
   "outputs": [
    {
     "name": "stdout",
     "output_type": "stream",
     "text": [
      "([[1, 1, 1, 2, 0, 0, 1, 0, 0], [1, 0, 0, 2, 1, 0, 1, 0, 0], [1, 0, 0, 2, 0, 1, 4, 1, 1]], ['ironhack', 'is', 'cool', 'i', 'love', 'am', 'a', 'student', 'at'])\n"
     ]
    }
   ],
   "source": [
    "# Print BoW\n",
    "print(bow)"
   ]
  },
  {
   "cell_type": "markdown",
   "metadata": {},
   "source": [
    "If your attempt above is successful, nice work done!\n",
    "\n",
    "Now test your function again with the stop words. In the previous lab we defined the stop words in a large array. In this lab, we'll import the stop words from Scikit-Learn."
   ]
  },
  {
   "cell_type": "code",
   "execution_count": 12,
   "metadata": {},
   "outputs": [
    {
     "name": "stdout",
     "output_type": "stream",
     "text": [
      "frozenset({'thereby', 'been', 'six', 'nine', 'put', 'becomes', 'not', 'few', 'seem', 'alone', 'was', 'hundred', 'often', 'ltd', 'will', 'on', 'no', 'formerly', 'others', 'whoever', 'one', 'sixty', 'cant', 'thereupon', 'cry', 'find', 'mine', 'twenty', 'describe', 'us', 'hereafter', 'its', 'wherever', 'all', 'a', 'beyond', 'her', 'as', 'amoungst', 'toward', 're', 'along', 'least', 'fifteen', 'mostly', 'beside', 'none', 'nor', 'every', 'anywhere', 'couldnt', 'hence', 'both', 'therefore', 'once', 'else', 'amongst', 'became', 'made', 'whereafter', 'forty', 'hereby', 'yourself', 'fifty', 'too', 'hereupon', 'take', 'due', 'than', 'why', 'please', 'between', 'then', 'via', 'about', 'whereas', 'have', 'show', 'from', 'neither', 'onto', 'either', 'meanwhile', 'again', 'at', 'become', 'you', 'namely', 'yourselves', 'most', 'now', 'throughout', 'less', 'although', 'whatever', 'we', 'yours', 'former', 'his', 'but', 'done', 'out', 'and', 'see', 'across', 'already', 'empty', 'front', 'still', 'next', 'never', 'whither', 'thus', 'though', 'while', 'they', 'your', 'whereby', 'whom', 'where', 'other', 'nowhere', 'ourselves', 'cannot', 'it', 'had', 'serious', 'side', 'herein', 'do', 'among', 'eleven', 'their', 'eg', 'much', 'without', 'whereupon', 'elsewhere', 'detail', 'within', 'of', 'further', 'during', 'noone', 'being', 'rather', 'these', 'are', 'last', 'down', 'own', 'so', 'would', 'enough', 'each', 'besides', 'for', 'anyone', 'otherwise', 'when', 'that', 'move', 'me', 'am', 'found', 'hers', 'wherein', 'because', 'everything', 'into', 'also', 'seems', 'well', 'seeming', 'them', 'however', 'how', 'whose', 'name', 'towards', 'against', 'whether', 'amount', 'back', 'somehow', 'latterly', 'con', 'the', 'except', 'thick', 'above', 'i', 'go', 'seemed', 'over', 'if', 'everywhere', 'moreover', 'until', 'below', 'whenever', 'get', 'is', 'whence', 'should', 'myself', 'be', 'three', 'more', 'afterwards', 'sincere', 'could', 'becoming', 'bottom', 'sometimes', 'what', 'thru', 'through', 'before', 'indeed', 'behind', 'third', 'nobody', 'those', 'upon', 'eight', 'who', 'thin', 'might', 'yet', 'call', 'anyway', 'top', 'he', 'anyhow', 'keep', 'up', 'interest', 'five', 'latter', 'mill', 'himself', 'even', 'inc', 'an', 'around', 'this', 'sometime', 'de', 'per', 'him', 'under', 'which', 'or', 'perhaps', 'full', 'whole', 'ever', 'system', 'must', 'themselves', 'after', 'co', 'there', 'our', 'in', 'by', 'were', 'something', 'some', 'here', 'etc', 'twelve', 'with', 'ie', 'bill', 'same', 'everyone', 'part', 'very', 'nothing', 'several', 'thereafter', 'un', 'hasnt', 'she', 'such', 'any', 'only', 'first', 'many', 'can', 'thence', 'always', 'itself', 'ours', 'fire', 'herself', 'may', 'my', 'somewhere', 'give', 'four', 'has', 'two', 'fill', 'another', 'anything', 'since', 'to', 'off', 'someone', 'nevertheless', 'almost', 'beforehand', 'together', 'therein', 'ten'})\n"
     ]
    }
   ],
   "source": [
    "from sklearn.feature_extraction import stop_words\n",
    "print(stop_words.ENGLISH_STOP_WORDS)"
   ]
  },
  {
   "cell_type": "markdown",
   "metadata": {},
   "source": [
    "You should have seen a large list of words that looks like:\n",
    "\n",
    "```frozenset({'across', 'mine', 'cannot', ...})```\n",
    "\n",
    "`frozenset` is a type of Python object that is immutable. In this lab you can use it just like an array without conversion."
   ]
  },
  {
   "cell_type": "markdown",
   "metadata": {},
   "source": [
    "Next, test your function with supplying `stop_words.ENGLISH_STOP_WORDS` as the second parameter."
   ]
  },
  {
   "cell_type": "code",
   "execution_count": 13,
   "metadata": {},
   "outputs": [],
   "source": [
    "bow = get_bow_from_docs(docs, stop_words=stop_words.ENGLISH_STOP_WORDS)"
   ]
  },
  {
   "cell_type": "code",
   "execution_count": 14,
   "metadata": {},
   "outputs": [
    {
     "name": "stdout",
     "output_type": "stream",
     "text": [
      "([[1, 1, 1, 2, 0, 0, 1, 0, 0], [1, 0, 0, 2, 1, 0, 1, 0, 0], [1, 0, 0, 2, 0, 1, 4, 1, 1]], ['ironhack', 'is', 'cool', 'i', 'love', 'am', 'a', 'student', 'at'])\n"
     ]
    }
   ],
   "source": [
    "print(bow)"
   ]
  },
  {
   "cell_type": "markdown",
   "metadata": {},
   "source": [
    "You should have seen:\n",
    "\n",
    "```{'bag_of_words': ['ironhack', 'cool', 'love', 'student'], 'term_freq': [[1, 1, 0, 0], [1, 0, 1, 0], [1, 0, 0, 1]]}```"
   ]
  }
 ],
 "metadata": {
  "kernelspec": {
   "display_name": "Python 3",
   "language": "python",
   "name": "python3"
  },
  "language_info": {
   "codemirror_mode": {
    "name": "ipython",
    "version": 3
   },
   "file_extension": ".py",
   "mimetype": "text/x-python",
   "name": "python",
   "nbconvert_exporter": "python",
   "pygments_lexer": "ipython3",
   "version": "3.7.3"
  }
 },
 "nbformat": 4,
 "nbformat_minor": 4
}
