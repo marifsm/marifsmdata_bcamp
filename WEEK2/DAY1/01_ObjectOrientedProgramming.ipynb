{
 "cells": [
  {
   "cell_type": "markdown",
   "metadata": {},
   "source": [
    "# Object-Oriented Programming with Python\n",
    "\n",
    "In this Jupyter Notebook, I'll try to implement a class that represents a bank account. But, before doing it, I'll play with some concepts."
   ]
  },
  {
   "cell_type": "code",
   "execution_count": 1,
   "metadata": {},
   "outputs": [],
   "source": [
    "class IronhackStudent():\n",
    "    \n",
    "    def __init__(self, name, bootcamp, cohort):\n",
    "        self.name = name\n",
    "        self.bootcamp = bootcamp\n",
    "        self.cohort = cohort"
   ]
  },
  {
   "cell_type": "code",
   "execution_count": 8,
   "metadata": {},
   "outputs": [],
   "source": [
    "ih1 = IronhackStudent(\"Célia\",\"Data Analytics\",\"September2019\")"
   ]
  },
  {
   "cell_type": "code",
   "execution_count": 3,
   "metadata": {},
   "outputs": [
    {
     "data": {
      "text/plain": [
       "'Célia'"
      ]
     },
     "execution_count": 3,
     "metadata": {},
     "output_type": "execute_result"
    }
   ],
   "source": [
    "ih1.name"
   ]
  },
  {
   "cell_type": "code",
   "execution_count": 7,
   "metadata": {},
   "outputs": [
    {
     "data": {
      "text/plain": [
       "['Data Analytics']"
      ]
     },
     "execution_count": 7,
     "metadata": {},
     "output_type": "execute_result"
    }
   ],
   "source": [
    "ih1.bootcamp"
   ]
  },
  {
   "cell_type": "code",
   "execution_count": 5,
   "metadata": {},
   "outputs": [
    {
     "data": {
      "text/plain": [
       "'September2019'"
      ]
     },
     "execution_count": 5,
     "metadata": {},
     "output_type": "execute_result"
    }
   ],
   "source": [
    "ih1.cohort"
   ]
  },
  {
   "cell_type": "code",
   "execution_count": 9,
   "metadata": {},
   "outputs": [
    {
     "data": {
      "text/plain": [
       "<__main__.IronhackStudent at 0x2afc7eaea20>"
      ]
     },
     "execution_count": 9,
     "metadata": {},
     "output_type": "execute_result"
    }
   ],
   "source": [
    "ih1"
   ]
  },
  {
   "cell_type": "markdown",
   "metadata": {},
   "source": [
    "If we call the object, the output isn't a representation of its attributes. Let's change that."
   ]
  },
  {
   "cell_type": "code",
   "execution_count": 18,
   "metadata": {},
   "outputs": [],
   "source": [
    "class IronhackStudent():\n",
    "    \n",
    "    def __init__(self, name, bootcamp, cohort):\n",
    "        self.name = name\n",
    "        self.bootcamp = bootcamp\n",
    "        self.cohort = cohort\n",
    "        \n",
    "    def __repr__(self):\n",
    "        return f\"IronhackStudent(name={self.name}, bootcamp={self.bootcamp}, cohort={self.cohort})\""
   ]
  },
  {
   "cell_type": "code",
   "execution_count": 19,
   "metadata": {},
   "outputs": [],
   "source": [
    "ih1 = IronhackStudent(\"Pablo\",\"Data Analytics\",\"September2019\")"
   ]
  },
  {
   "cell_type": "code",
   "execution_count": 20,
   "metadata": {},
   "outputs": [
    {
     "data": {
      "text/plain": [
       "IronhackStudent(name=Pablo, bootcamp=Data Analytics, cohort=September2019)"
      ]
     },
     "execution_count": 20,
     "metadata": {},
     "output_type": "execute_result"
    }
   ],
   "source": [
    "ih1"
   ]
  },
  {
   "cell_type": "code",
   "execution_count": 21,
   "metadata": {},
   "outputs": [
    {
     "data": {
      "text/plain": [
       "'Pablo'"
      ]
     },
     "execution_count": 21,
     "metadata": {},
     "output_type": "execute_result"
    }
   ],
   "source": [
    "ih1.name"
   ]
  },
  {
   "cell_type": "code",
   "execution_count": 22,
   "metadata": {},
   "outputs": [
    {
     "data": {
      "text/plain": [
       "'Data Analytics'"
      ]
     },
     "execution_count": 22,
     "metadata": {},
     "output_type": "execute_result"
    }
   ],
   "source": [
    "ih1.bootcamp"
   ]
  },
  {
   "cell_type": "code",
   "execution_count": 23,
   "metadata": {},
   "outputs": [
    {
     "data": {
      "text/plain": [
       "'September2019'"
      ]
     },
     "execution_count": 23,
     "metadata": {},
     "output_type": "execute_result"
    }
   ],
   "source": [
    "ih1.cohort"
   ]
  },
  {
   "cell_type": "markdown",
   "metadata": {},
   "source": [
    "Let's implement a method."
   ]
  },
  {
   "cell_type": "code",
   "execution_count": 24,
   "metadata": {},
   "outputs": [],
   "source": [
    "class IronhackStudent():\n",
    "    \n",
    "    def __init__(self, name, bootcamp, cohort):\n",
    "        self.name = name\n",
    "        self.bootcamp = bootcamp\n",
    "        self.cohort = cohort\n",
    "        \n",
    "    def __repr__(self):\n",
    "        return f\"IronhackStudent(name={self.name}, bootcamp={self.bootcamp}, cohort={self.cohort})\"\n",
    "    \n",
    "    def present(self):\n",
    "        print(f\"Hello! My name is {self.name}. I'm a student in the {self.bootcamp} bootcamp.\")"
   ]
  },
  {
   "cell_type": "code",
   "execution_count": 27,
   "metadata": {},
   "outputs": [],
   "source": [
    "ih1 = IronhackStudent(\"Meire\",\"Data Analytics\",\"September2019\")"
   ]
  },
  {
   "cell_type": "code",
   "execution_count": 28,
   "metadata": {},
   "outputs": [
    {
     "name": "stdout",
     "output_type": "stream",
     "text": [
      "Hello! My name is Meire. I'm a student in the Data Analytics bootcamp.\n"
     ]
    }
   ],
   "source": [
    "ih1.present()"
   ]
  },
  {
   "cell_type": "markdown",
   "metadata": {},
   "source": [
    "Let's create an attribute in our IronhackStudent that tells us if the student is an active student or not."
   ]
  },
  {
   "cell_type": "code",
   "execution_count": 38,
   "metadata": {},
   "outputs": [],
   "source": [
    "class IronhackStudent():\n",
    "    \n",
    "    def __init__(self, name, bootcamp, cohort, active):\n",
    "        self.name = name\n",
    "        self.bootcamp = bootcamp\n",
    "        self.cohort = cohort\n",
    "        self.active = active\n",
    "        \n",
    "    def __repr__(self):\n",
    "        return f\"IronhackStudent(name={self.name}, bootcamp={self.bootcamp}, cohort={self.cohort}, active={self.active})\"\n",
    "    \n",
    "    def present(self):\n",
    "        print(f\"Hello! My name is {self.name}. I'm a student in the {self.bootcamp} bootcamp.\")"
   ]
  },
  {
   "cell_type": "code",
   "execution_count": 39,
   "metadata": {},
   "outputs": [],
   "source": [
    "ih1 = IronhackStudent(\"Kelly\",\"Data Analytics\",\"June2019\", False)"
   ]
  },
  {
   "cell_type": "code",
   "execution_count": 40,
   "metadata": {},
   "outputs": [
    {
     "data": {
      "text/plain": [
       "IronhackStudent(name=Kelly, bootcamp=Data Analytics, cohort=June2019, active=False)"
      ]
     },
     "execution_count": 40,
     "metadata": {},
     "output_type": "execute_result"
    }
   ],
   "source": [
    "ih1"
   ]
  },
  {
   "cell_type": "code",
   "execution_count": 32,
   "metadata": {},
   "outputs": [
    {
     "data": {
      "text/plain": [
       "False"
      ]
     },
     "execution_count": 32,
     "metadata": {},
     "output_type": "execute_result"
    }
   ],
   "source": [
    "ih1.active"
   ]
  },
  {
   "cell_type": "markdown",
   "metadata": {},
   "source": [
    "Since the student can graduate or drop out of the course, let's add a method that changes the status of the student."
   ]
  },
  {
   "cell_type": "code",
   "execution_count": 20,
   "metadata": {},
   "outputs": [],
   "source": [
    "class IronhackStudent():\n",
    "    \n",
    "    def __init__(self, name, bootcamp, cohort, active):\n",
    "        self.name = name\n",
    "        self.bootcamp = bootcamp\n",
    "        self.cohort = cohort\n",
    "        self.active = active\n",
    "        \n",
    "    def __repr__(self):\n",
    "        return f\"IronhackStudent(name={self.name}, bootcamp={self.bootcamp}, cohort={self.cohort}, active={self.active})\"\n",
    "    \n",
    "    def present(self):\n",
    "        print(f\"Hello! My name is {self.name}. I'm a student in the {self.bootcamp} bootcamp.\")\n",
    "        \n",
    "    def new_status(self, status):\n",
    "        self.active = status\n",
    "        return self.active"
   ]
  },
  {
   "cell_type": "code",
   "execution_count": 21,
   "metadata": {},
   "outputs": [],
   "source": [
    "ih1 = IronhackStudent(\"Kelly\",\"Data Analytics\",\"June2019\", True)"
   ]
  },
  {
   "cell_type": "code",
   "execution_count": 22,
   "metadata": {},
   "outputs": [
    {
     "data": {
      "text/plain": [
       "IronhackStudent(name=Kelly, bootcamp=Data Analytics, cohort=June2019, active=True)"
      ]
     },
     "execution_count": 22,
     "metadata": {},
     "output_type": "execute_result"
    }
   ],
   "source": [
    "ih1"
   ]
  },
  {
   "cell_type": "code",
   "execution_count": 23,
   "metadata": {},
   "outputs": [
    {
     "data": {
      "text/plain": [
       "False"
      ]
     },
     "execution_count": 23,
     "metadata": {},
     "output_type": "execute_result"
    }
   ],
   "source": [
    "ih1.new_status(False)"
   ]
  },
  {
   "cell_type": "code",
   "execution_count": 24,
   "metadata": {},
   "outputs": [
    {
     "data": {
      "text/plain": [
       "IronhackStudent(name=Kelly, bootcamp=Data Analytics, cohort=June2019, active=False)"
      ]
     },
     "execution_count": 24,
     "metadata": {},
     "output_type": "execute_result"
    }
   ],
   "source": [
    "ih1"
   ]
  },
  {
   "cell_type": "markdown",
   "metadata": {},
   "source": [
    "Now, let's add some complexity in the `.present()` method."
   ]
  },
  {
   "cell_type": "code",
   "execution_count": 25,
   "metadata": {},
   "outputs": [],
   "source": [
    "class IronhackStudent():\n",
    "    \n",
    "    def __init__(self, name, bootcamp, cohort, active):\n",
    "        self.name = name\n",
    "        self.bootcamp = bootcamp\n",
    "        self.cohort = cohort\n",
    "        self.active = active\n",
    "        \n",
    "    def __repr__(self):\n",
    "        return f\"IronhackStudent(name={self.name}, bootcamp={self.bootcamp}, cohort={self.cohort}, active={self.active})\"\n",
    "    \n",
    "    def present(self):\n",
    "        if self.active == True:\n",
    "            print(f\"Hello! My name is {self.name}. I'm a student in the {self.bootcamp} bootcamp.\")\n",
    "        else:\n",
    "            print(f\"Hello! My name is {self.name}. I was a student in the {self.bootcamp} bootcamp.\")\n",
    "        \n",
    "    def new_status(self, status):\n",
    "        self.active = status\n",
    "        return self.active"
   ]
  },
  {
   "cell_type": "code",
   "execution_count": 26,
   "metadata": {},
   "outputs": [],
   "source": [
    "ih1 = IronhackStudent(\"Kelly\",\"Data Analytics\",\"June2019\", True)"
   ]
  },
  {
   "cell_type": "code",
   "execution_count": 27,
   "metadata": {},
   "outputs": [
    {
     "data": {
      "text/plain": [
       "IronhackStudent(name=Kelly, bootcamp=Data Analytics, cohort=June2019, active=True)"
      ]
     },
     "execution_count": 27,
     "metadata": {},
     "output_type": "execute_result"
    }
   ],
   "source": [
    "ih1"
   ]
  },
  {
   "cell_type": "code",
   "execution_count": 28,
   "metadata": {},
   "outputs": [
    {
     "name": "stdout",
     "output_type": "stream",
     "text": [
      "Hello! My name is Kelly. I'm a student in the Data Analytics bootcamp.\n"
     ]
    }
   ],
   "source": [
    "ih1.present()"
   ]
  },
  {
   "cell_type": "code",
   "execution_count": 29,
   "metadata": {},
   "outputs": [
    {
     "data": {
      "text/plain": [
       "False"
      ]
     },
     "execution_count": 29,
     "metadata": {},
     "output_type": "execute_result"
    }
   ],
   "source": [
    "ih1.new_status(False)"
   ]
  },
  {
   "cell_type": "code",
   "execution_count": 30,
   "metadata": {},
   "outputs": [
    {
     "name": "stdout",
     "output_type": "stream",
     "text": [
      "Hello! My name is Kelly. I was a student in the Data Analytics bootcamp.\n"
     ]
    }
   ],
   "source": [
    "ih1.present()"
   ]
  },
  {
   "cell_type": "markdown",
   "metadata": {},
   "source": [
    "---"
   ]
  },
  {
   "cell_type": "markdown",
   "metadata": {},
   "source": [
    "Let's begin with adding some basic attributes to our fake bank account."
   ]
  },
  {
   "cell_type": "code",
   "execution_count": 31,
   "metadata": {},
   "outputs": [],
   "source": [
    "class fakeBankAccount():\n",
    "    \n",
    "    def __init__(self, account_number, account_holder, balance):\n",
    "        self.account_number = account_number\n",
    "        self.account_holder = account_holder\n",
    "        self.balance = balance"
   ]
  },
  {
   "cell_type": "code",
   "execution_count": 32,
   "metadata": {},
   "outputs": [],
   "source": [
    "acc1 = fakeBankAccount(\"0001\",\"Rogério Rodrigues de Aguiar\",0)"
   ]
  },
  {
   "cell_type": "code",
   "execution_count": 33,
   "metadata": {},
   "outputs": [
    {
     "data": {
      "text/plain": [
       "<__main__.fakeBankAccount at 0x1e03a8049e8>"
      ]
     },
     "execution_count": 33,
     "metadata": {},
     "output_type": "execute_result"
    }
   ],
   "source": [
    "acc1"
   ]
  },
  {
   "cell_type": "markdown",
   "metadata": {},
   "source": [
    "Let's define how it will be represented when the object is called."
   ]
  },
  {
   "cell_type": "code",
   "execution_count": 34,
   "metadata": {},
   "outputs": [],
   "source": [
    "class fakeBankAccount():\n",
    "    \n",
    "    def __init__(self, account_number, account_holder, balance):\n",
    "        self.account_number = account_number\n",
    "        self.account_holder = account_holder\n",
    "        self.balance = balance\n",
    "        \n",
    "    def __repr__(self):\n",
    "        return f\"<account_number={self.account_number}, account_holder={self.account_holder}, balance={self.balance}>\""
   ]
  },
  {
   "cell_type": "code",
   "execution_count": 35,
   "metadata": {},
   "outputs": [
    {
     "data": {
      "text/plain": [
       "<account_number=0001, account_holder=Rogério Rodrigues de Aguiar, balance=0>"
      ]
     },
     "execution_count": 35,
     "metadata": {},
     "output_type": "execute_result"
    }
   ],
   "source": [
    "acc1 = fakeBankAccount(\"0001\",\"Rogério Rodrigues de Aguiar\",0)\n",
    "acc1"
   ]
  },
  {
   "cell_type": "markdown",
   "metadata": {},
   "source": [
    "Let's add some methods to deposit and withdraw money from the account."
   ]
  },
  {
   "cell_type": "code",
   "execution_count": 36,
   "metadata": {},
   "outputs": [],
   "source": [
    "class fakeBankAccount():\n",
    "    \n",
    "    def __init__(self, account_number, account_holder, balance):\n",
    "        self.account_number = account_number\n",
    "        self.account_holder = account_holder\n",
    "        self.balance = balance\n",
    "        \n",
    "    def __repr__(self):\n",
    "        return f\"<account_number={self.account_number}, account_holder={self.account_holder}, balance={self.balance}>\"\n",
    "    \n",
    "    def deposit(self, amount):\n",
    "        self.balance += amount\n",
    "        print(f\"The deposit was successful! Now you have R${self.balance} in your account\")\n",
    "    \n",
    "    def withdraw(self, amount):\n",
    "        if amount <= self.balance:\n",
    "            self.balance -= amount\n",
    "            print(f\"The withdraw was successful! Now you have R${self.balance} in your account\")\n",
    "        else:\n",
    "            print(f\"Seems like you don't have enough money. Your actual balance is R${self.balance}.\")"
   ]
  },
  {
   "cell_type": "code",
   "execution_count": 37,
   "metadata": {},
   "outputs": [
    {
     "data": {
      "text/plain": [
       "<account_number=0001, account_holder=Rogério Rodrigues de Aguiar, balance=0>"
      ]
     },
     "execution_count": 37,
     "metadata": {},
     "output_type": "execute_result"
    }
   ],
   "source": [
    "acc2 = fakeBankAccount(\"0001\",\"Rogério Rodrigues de Aguiar\",0)\n",
    "acc2"
   ]
  },
  {
   "cell_type": "code",
   "execution_count": 38,
   "metadata": {},
   "outputs": [
    {
     "name": "stdout",
     "output_type": "stream",
     "text": [
      "The deposit was successful! Now you have R$1000 in your account\n"
     ]
    }
   ],
   "source": [
    "acc2.deposit(1000)"
   ]
  },
  {
   "cell_type": "code",
   "execution_count": 39,
   "metadata": {},
   "outputs": [
    {
     "name": "stdout",
     "output_type": "stream",
     "text": [
      "The deposit was successful! Now you have R$2234 in your account\n"
     ]
    }
   ],
   "source": [
    "acc2.deposit(1234)"
   ]
  },
  {
   "cell_type": "code",
   "execution_count": 40,
   "metadata": {},
   "outputs": [
    {
     "name": "stdout",
     "output_type": "stream",
     "text": [
      "Seems like you don't have enough money. Your actual balance is R$2234.\n"
     ]
    }
   ],
   "source": [
    "acc2.withdraw(5000)"
   ]
  },
  {
   "cell_type": "code",
   "execution_count": 41,
   "metadata": {},
   "outputs": [
    {
     "name": "stdout",
     "output_type": "stream",
     "text": [
      "The withdraw was successful! Now you have R$734 in your account\n"
     ]
    }
   ],
   "source": [
    "acc2.withdraw(1500)"
   ]
  }
 ],
 "metadata": {
  "kernelspec": {
   "display_name": "Python 3",
   "language": "python",
   "name": "python3"
  },
  "language_info": {
   "codemirror_mode": {
    "name": "ipython",
    "version": 3
   },
   "file_extension": ".py",
   "mimetype": "text/x-python",
   "name": "python",
   "nbconvert_exporter": "python",
   "pygments_lexer": "ipython3",
   "version": "3.7.3"
  }
 },
 "nbformat": 4,
 "nbformat_minor": 2
}
