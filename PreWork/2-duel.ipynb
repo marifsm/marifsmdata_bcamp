{
 "cells": [
  {
   "cell_type": "markdown",
   "metadata": {},
   "source": [
    "# Duel of sorcerers\n",
    "You are witnessing an epic battle between two powerful sorcerers: Gandalf and Saruman. Each sorcerer has 10 spells of variable power in their mind and they are going to throw them one after the other. The winner of the duel will be the one who wins more of those clashes between spells. Spells are represented as a list of 10 integers whose value equals the power of the spell.\n",
    "```\n",
    "gandalf = [10, 11, 13, 30, 22, 11, 10, 33, 22, 22]\n",
    "saruman = [23, 66, 12, 43, 12, 10, 44, 23, 12, 17]\n",
    "```\n",
    "For example:\n",
    "1. The first clash is won by Saruman: 10 against 23, wins 23\n",
    "2. The second clash wins Saruman: 11 against 66, wins 66\n",
    "3. etc.\n",
    "\n",
    "\n",
    "You will create two variables, one for each sorcerer, where the sum of clashes won will be stored. Depending on which variable is greater at the end of the duel, you will show one of the following three results on the screen:\n",
    "* Gandalf wins\n",
    "* Saruman wins\n",
    "* Tie\n",
    "\n",
    "<img src=\"images/content_lightning_bolt_big.jpg\" width=\"400\">"
   ]
  },
  {
   "cell_type": "markdown",
   "metadata": {},
   "source": [
    "## Solution"
   ]
  },
  {
   "cell_type": "markdown",
   "metadata": {},
   "source": [
    "## Goals\n",
    "\n",
    "1. Treatment of lists\n",
    "2. Use of **for loop**\n",
    "3. Use of conditional **if-elif-else**\n",
    "4. Use of the functions **range(), len()**\n",
    "5. Print"
   ]
  },
  {
   "cell_type": "code",
   "execution_count": 1,
   "metadata": {},
   "outputs": [],
   "source": [
    "# Assign spell power lists to variables\n",
    "\n",
    "gandalf = [10, 11, 13, 30, 22, 11, 10, 33, 22, 22]\n",
    "saruman = [23, 66, 12, 43, 12, 10, 44, 23, 12, 17]"
   ]
  },
  {
   "cell_type": "code",
   "execution_count": 2,
   "metadata": {},
   "outputs": [],
   "source": [
    "# Assign 0 to each variable that stores the victories\n",
    "win_g=0\n",
    "win_s=0"
   ]
  },
  {
   "cell_type": "code",
   "execution_count": 3,
   "metadata": {},
   "outputs": [
    {
     "name": "stdout",
     "output_type": "stream",
     "text": [
      "tie\n",
      "Gandalf won 6 times and Saruman won 4 time\n"
     ]
    }
   ],
   "source": [
    "# Execution of spell clashes\n",
    "for spell in range(len(gandalf)):\n",
    "    if gandalf[spell] > saruman[spell]:\n",
    "        win_g += 1\n",
    "    elif gandalf[spell] < saruman[spell]:\n",
    "        win_s += 1\n",
    "# We check who has won, do not forget the possibility of a draw.\n",
    "else:\n",
    "     print ('tie')\n",
    "\n",
    "print ('Gandalf won', win_g,'times and Saruman won', win_s, 'time')   \n",
    "\n",
    "    \n"
   ]
  },
  {
   "cell_type": "code",
   "execution_count": 4,
   "metadata": {},
   "outputs": [
    {
     "name": "stdout",
     "output_type": "stream",
     "text": [
      "Gandalf wins\n"
     ]
    }
   ],
   "source": [
    "# Print the result based on the winne\n",
    "if win_g > win_s:\n",
    "    print ('Gandalf wins')\n",
    "else:\n",
    "    print ('Saruman wins')"
   ]
  },
  {
   "cell_type": "code",
   "execution_count": null,
   "metadata": {
    "scrolled": true
   },
   "outputs": [],
   "source": []
  },
  {
   "cell_type": "markdown",
   "metadata": {},
   "source": [
    "## Goals\n",
    "\n",
    "1. Treatment of lists\n",
    "2. Use of **for loop**\n",
    "3. Use of conditional **if-elif-else**\n",
    "4. Use of the functions **range(), len()**\n",
    "5. Print"
   ]
  },
  {
   "cell_type": "code",
   "execution_count": 5,
   "metadata": {},
   "outputs": [],
   "source": [
    "# 1. Spells now have a name and there is a dictionary that relates that name to a power.\n",
    "# variables\n",
    "\n",
    "POWER = {\n",
    "    'Fireball': 50, \n",
    "    'Lightning bolt': 40, \n",
    "    'Magic arrow': 10, \n",
    "    'Black Tentacles': 25, \n",
    "    'Contagion': 45\n",
    "}\n",
    "\n",
    "gandalf = ['Fireball', 'Lightning bolt', 'Lightning bolt', 'Magic arrow', 'Fireball', \n",
    "           'Magic arrow', 'Lightning bolt', 'Fireball', 'Magic arrow', 'Fireball']\n",
    "saruman = ['Contagion', 'Contagion', 'Black Tentacles', 'Fireball', 'Black Tentacles', \n",
    "           'Lightning bolt', 'Magic arrow', 'Contagion', 'Magic arrow', 'Magic arrow']"
   ]
  },
  {
   "cell_type": "code",
   "execution_count": 6,
   "metadata": {},
   "outputs": [
    {
     "data": {
      "text/plain": [
       "range(0, 10)"
      ]
     },
     "execution_count": 6,
     "metadata": {},
     "output_type": "execute_result"
    }
   ],
   "source": [
    "range(len(gandalf))"
   ]
  },
  {
   "cell_type": "code",
   "execution_count": 7,
   "metadata": {},
   "outputs": [
    {
     "name": "stdout",
     "output_type": "stream",
     "text": [
      "[50, 40, 40, 10, 50, 10, 40, 50, 10, 50] : [45, 45, 25, 50, 25, 40, 10, 45, 10, 10]\n"
     ]
    }
   ],
   "source": [
    "# Assign spell power lists to variables\n",
    "lst_gandalf = []\n",
    "lst_saruman = []\n",
    "\n",
    "for p in range(len(gandalf)):\n",
    "    lst_gandalf.append(POWER[gandalf[p]])\n",
    "    lst_saruman.append(POWER[saruman[p]])\n",
    "\n",
    "print(lst_gandalf,':',lst_saruman)"
   ]
  },
  {
   "cell_type": "code",
   "execution_count": 10,
   "metadata": {},
   "outputs": [
    {
     "name": "stdout",
     "output_type": "stream",
     "text": [
      "['gandalf', 'saruman', 'gandalf', 'saruman', 'gandalf', 'saruman', 'gandalf', 'gandalf', 'gandalf', 'tie']\n"
     ]
    }
   ],
   "source": [
    "# 2. A sorcerer wins if he succeeds in winning 3 spell clashes in a row.\n",
    "\n",
    "\n",
    "# Execution of spell clashes\n",
    "battle=[]\n",
    "for spell_b in range(len(gandalf)):\n",
    "    if lst_gandalf[spell_b] > lst_saruman[spell_b]:\n",
    "        battle.append('gandalf')\n",
    "        #valor vitória do gandalf = g\n",
    "    elif lst_gandalf[spell_b] < lst_saruman[spell_b]:\n",
    "        battle.append('saruman')\n",
    "        #valor vitória do saruman = s\n",
    "# We check who has won, do not forget the possibility of a draw.\n",
    "else:\n",
    "     battle.append('tie')\n",
    "        #valor do empate = tie\n",
    "\n",
    "print(battle)"
   ]
  },
  {
   "cell_type": "code",
   "execution_count": 12,
   "metadata": {},
   "outputs": [
    {
     "name": "stdout",
     "output_type": "stream",
     "text": [
      "\n",
      "\n",
      "\n",
      "\n",
      "\n",
      "\n",
      "gandalf  won 3 times in a row\n",
      "gandalf  is the winner\n",
      "\n"
     ]
    }
   ],
   "source": [
    "# check for 3 wins in a row\n",
    "for s in range(len(battle)-2):\n",
    "    if battle[s] != battle[s+1]:\n",
    "        print(\"\")\n",
    "    elif battle[s+1] != battle[s+2]:\n",
    "        print(\"\")\n",
    "    else:\n",
    "        \n",
    "        print( battle[s], \" won 3 times in a row\")\n",
    "# check the winner\n",
    "        print( battle[s], \" is the winner\")"
   ]
  },
  {
   "cell_type": "code",
   "execution_count": 18,
   "metadata": {},
   "outputs": [
    {
     "name": "stdout",
     "output_type": "stream",
     "text": [
      "Average of Gandalf spell list: 35.0\n",
      "Average of Saruman spell list: 30.5\n"
     ]
    }
   ],
   "source": [
    "# 3. Average of each of the spell lists.\n",
    "\n",
    "import statistics\n",
    "\n",
    "avg_g = sum(lst_gandalf)/len((lst_gandalf))\n",
    "print('Average of Gandalf spell list:', avg_g)\n",
    "\n",
    "avg_s = sum(lst_saruman)/len((lst_saruman))\n",
    "print('Average of Saruman spell list:', avg_s)"
   ]
  },
  {
   "cell_type": "code",
   "execution_count": 23,
   "metadata": {},
   "outputs": [
    {
     "name": "stdout",
     "output_type": "stream",
     "text": [
      "Standard deviation of Gandalf spell list is 17.795130420052185\n",
      "Standard deviation of Saruman spell list is 16.40629960309962\n"
     ]
    }
   ],
   "source": [
    "# 4. Standard deviation of each of the spell lists.\n",
    "from statistics import stdev \n",
    "stdev(lst_gandalf)\n",
    "print('Standard deviation of Gandalf spell list is', stdev(lst_gandalf))\n",
    "\n",
    "stdev(lst_saruman)\n",
    "print('Standard deviation of Saruman spell list is', stdev(lst_saruman))"
   ]
  },
  {
   "cell_type": "code",
   "execution_count": null,
   "metadata": {},
   "outputs": [],
   "source": []
  }
 ],
 "metadata": {
  "kernelspec": {
   "display_name": "Python 3",
   "language": "python",
   "name": "python3"
  },
  "language_info": {
   "codemirror_mode": {
    "name": "ipython",
    "version": 3
   },
   "file_extension": ".py",
   "mimetype": "text/x-python",
   "name": "python",
   "nbconvert_exporter": "python",
   "pygments_lexer": "ipython3",
   "version": "3.7.3"
  }
 },
 "nbformat": 4,
 "nbformat_minor": 2
}
