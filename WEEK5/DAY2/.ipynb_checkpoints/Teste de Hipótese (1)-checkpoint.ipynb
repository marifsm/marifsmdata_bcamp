{
 "cells": [
  {
   "cell_type": "markdown",
   "metadata": {},
   "source": [
    "# One-Sample T-Test"
   ]
  },
  {
   "cell_type": "markdown",
   "metadata": {},
   "source": [
    "Um teste t de uma amostra verifica se a média da amostra difere da média populacional. Vamos criar alguns dados de idade fictícia para a população de eleitores em todo o país e uma amostra de eleitores em Minnesota e testar se a idade média dos eleitores Minnesota difere da população:"
   ]
  },
  {
   "cell_type": "code",
   "execution_count": 1,
   "metadata": {},
   "outputs": [],
   "source": [
    "%matplotlib inline"
   ]
  },
  {
   "cell_type": "code",
   "execution_count": 2,
   "metadata": {},
   "outputs": [],
   "source": [
    "import numpy as np\n",
    "import pandas as pd\n",
    "import scipy.stats as stats\n",
    "import matplotlib.pyplot as plt\n",
    "import math"
   ]
  },
  {
   "cell_type": "code",
   "execution_count": 3,
   "metadata": {},
   "outputs": [
    {
     "name": "stdout",
     "output_type": "stream",
     "text": [
      "43.000112\n",
      "39.26\n"
     ]
    }
   ],
   "source": [
    "\n",
    "np.random.seed(6)\n",
    "\n",
    "population_ages1 = stats.poisson.rvs(loc=18, mu=35, size=150000)\n",
    "population_ages2 = stats.poisson.rvs(loc=18, mu=10, size=100000)\n",
    "population_ages = np.concatenate((population_ages1, population_ages2))\n",
    "\n",
    "minnesota_ages1 = stats.poisson.rvs(loc=18, mu=30, size=30)\n",
    "minnesota_ages2 = stats.poisson.rvs(loc=18, mu=10, size=20)\n",
    "minnesota_ages = np.concatenate((minnesota_ages1, minnesota_ages2))\n",
    "\n",
    "print( population_ages.mean() )\n",
    "print( minnesota_ages.mean() )"
   ]
  },
  {
   "cell_type": "markdown",
   "metadata": {},
   "source": [
    "Observe que usamos uma combinação ligeiramente diferente de distribuições para gerar os dados da amostra para Minnesota, portanto sabemos que as duas médias são diferentes. Vamos realizar um teste t com um nível de confiança de 95% e ver se ele rejeita a hipótese nula de que a amostra é proveniente da mesma distribuição que a população. Para realizar um teste t de uma amostra, podemos usar a função stats.ttest_1samp ():"
   ]
  },
  {
   "cell_type": "code",
   "execution_count": 4,
   "metadata": {},
   "outputs": [
    {
     "data": {
      "text/plain": [
       "Ttest_1sampResult(statistic=-2.5742714883655027, pvalue=0.013118685425061678)"
      ]
     },
     "execution_count": 4,
     "metadata": {},
     "output_type": "execute_result"
    }
   ],
   "source": [
    "stats.ttest_1samp(a= minnesota_ages,               # Sample data\n",
    "                 popmean= population_ages.mean())  # Pop mean"
   ]
  },
  {
   "cell_type": "markdown",
   "metadata": {},
   "source": [
    "O resultado do teste mostra que a estatística de teste \"t\" é igual a -2,574. Esta estatística de teste nos diz o quanto a média da amostra se desvia da hipótese nula. Se a estatística t estiver fora dos quantis da distribuição t correspondente ao nosso nível de confiança e graus de liberdade, rejeitamos a hipótese nula. Podemos verificar os quantis com stats.t.ppf ():"
   ]
  },
  {
   "cell_type": "code",
   "execution_count": 6,
   "metadata": {},
   "outputs": [
    {
     "data": {
      "text/plain": [
       "-2.0095752344892093"
      ]
     },
     "execution_count": 6,
     "metadata": {},
     "output_type": "execute_result"
    }
   ],
   "source": [
    "stats.t.ppf(q=0.025,  # Quantile to check\n",
    "            df=49)  # Degrees of freedom"
   ]
  },
  {
   "cell_type": "code",
   "execution_count": 7,
   "metadata": {},
   "outputs": [
    {
     "data": {
      "text/plain": [
       "2.009575234489209"
      ]
     },
     "execution_count": 7,
     "metadata": {},
     "output_type": "execute_result"
    }
   ],
   "source": [
    "stats.t.ppf(q=0.975,  # Quantile to check\n",
    "            df=49)  # Degrees of freedom"
   ]
  },
  {
   "cell_type": "markdown",
   "metadata": {},
   "source": [
    "Podemos calcular as chances de ver um resultado tão extremo quanto o que observamos (conhecido como p valor) passando a estatística-t em como o quantil para a função stats.t.cdf ():"
   ]
  },
  {
   "cell_type": "code",
   "execution_count": 8,
   "metadata": {},
   "outputs": [
    {
     "data": {
      "text/plain": [
       "0.013121066545690117"
      ]
     },
     "execution_count": 8,
     "metadata": {},
     "output_type": "execute_result"
    }
   ],
   "source": [
    "stats.t.cdf(x= -2.5742,      # T-test statistic\n",
    "               df= 49) * 2   # Mupltiply by two for two tailed test*"
   ]
  },
  {
   "cell_type": "markdown",
   "metadata": {},
   "source": [
    "** Nota: A hipótese alternativa que estamos verificando é se a média da amostra difere (não é igual a) a média da população. Como a amostra pode diferir na direção positiva ou negativa, multiplicamos a por dois. **\n",
    "\n",
    "\n",
    "Observe que esse valor é o mesmo que o p valor listado na saída do teste t original. Um p valor de 0,01311 significa que esperamos ver dados tão extremos quanto a nossa amostra devido ao acaso em cerca de 1,3% do tempo, se a hipótese nula fosse verdadeira. Nesse caso, o p valor é menor que o nosso nível de significância α (igual a 1-conf.level ou 0,05), então devemos *rejeitar* a hipótese nula. Se fôssemos construir um intervalo de confiança de 95% para a amostra, ela não capturaria a média populacional de 43:"
   ]
  },
  {
   "cell_type": "code",
   "execution_count": 9,
   "metadata": {},
   "outputs": [
    {
     "data": {
      "text/plain": [
       "(36.369669080722176, 42.15033091927782)"
      ]
     },
     "execution_count": 9,
     "metadata": {},
     "output_type": "execute_result"
    }
   ],
   "source": [
    "\n",
    "sigma = minnesota_ages.std()/math.sqrt(50)  # Sample stdev/sample size\n",
    "\n",
    "stats.t.interval(0.95,                        # Confidence level\n",
    "                 df = 49,                     # Degrees of freedom\n",
    "                 loc = minnesota_ages.mean(), # Sample mean\n",
    "                 scale= sigma)                # Standard dev estimate"
   ]
  },
  {
   "cell_type": "markdown",
   "metadata": {},
   "source": [
    "Por outro lado, como existe uma chance de 1,3% de ver um resultado tão extremo devido ao acaso, ele não é significativo no nível de confiança de 99%. Isso significa que se fôssemos construir um intervalo de confiança de 99%, isso capturaria a média da população:"
   ]
  },
  {
   "cell_type": "code",
   "execution_count": 10,
   "metadata": {},
   "outputs": [
    {
     "data": {
      "text/plain": [
       "(35.40547994092107, 43.11452005907893)"
      ]
     },
     "execution_count": 10,
     "metadata": {},
     "output_type": "execute_result"
    }
   ],
   "source": [
    "\n",
    "stats.t.interval(alpha = 0.99,                # Confidence level\n",
    "                 df = 49,                     # Degrees of freedom\n",
    "                 loc = minnesota_ages.mean(), # Sample mean\n",
    "                 scale= sigma)                # Standard dev estimate"
   ]
  },
  {
   "cell_type": "markdown",
   "metadata": {},
   "source": [
    "# Two-Sample T-Test"
   ]
  },
  {
   "cell_type": "markdown",
   "metadata": {},
   "source": [
    "Um teste t de duas amostras investiga se as médias de duas amostras de dados independentes diferem umas das outras. Em um teste de duas amostras, a hipótese nula é que as médias de ambos os grupos são as mesmas. Ao contrário do teste de uma amostra, em que testamos em relação a um parâmetro populacional conhecido, o teste de duas amostras envolve apenas médias amostrais. Você pode realizar um teste t de duas amostras passando com a função stats.ttest_ind (). Vamos gerar uma amostra dos dados de idade dos eleitores para Wisconsin e testá-los em relação à amostra que fizemos anteriormente:"
   ]
  },
  {
   "cell_type": "code",
   "execution_count": 12,
   "metadata": {},
   "outputs": [
    {
     "name": "stdout",
     "output_type": "stream",
     "text": [
      "42.8\n"
     ]
    }
   ],
   "source": [
    "\n",
    "np.random.seed(12)\n",
    "wisconsin_ages1 = stats.poisson.rvs(loc=18, mu=33, size=30)\n",
    "wisconsin_ages2 = stats.poisson.rvs(loc=18, mu=13, size=20)\n",
    "wisconsin_ages = np.concatenate((wisconsin_ages1, wisconsin_ages2))\n",
    "\n",
    "print( wisconsin_ages.mean() )"
   ]
  },
  {
   "cell_type": "code",
   "execution_count": 13,
   "metadata": {},
   "outputs": [
    {
     "data": {
      "text/plain": [
       "Ttest_indResult(statistic=-1.7083870793286842, pvalue=0.09073104343957748)"
      ]
     },
     "execution_count": 13,
     "metadata": {},
     "output_type": "execute_result"
    }
   ],
   "source": [
    "\n",
    "stats.ttest_ind(a= minnesota_ages,\n",
    "                b= wisconsin_ages,\n",
    "                equal_var=False)    # Assume samples have equal variance?"
   ]
  },
  {
   "cell_type": "markdown",
   "metadata": {},
   "source": [
    "O teste produz um p valorde 0,0907, o que significa que há uma chance de 9% de vermos dados de amostra tão distantes se os dois grupos testados forem realmente idênticos. Se estivéssemos usando um nível de confiança de 95%, não poderíamos rejeitar a hipótese nula, uma vez que o p valor é maior que o nível de significância correspondente de 5%."
   ]
  },
  {
   "cell_type": "markdown",
   "metadata": {},
   "source": [
    "# Paired T-Test"
   ]
  },
  {
   "cell_type": "markdown",
   "metadata": {},
   "source": [
    "O teste t básico de duas amostras foi projetado para testar diferenças entre grupos independentes. Em alguns casos, você pode estar interessado em testar diferenças entre amostras do mesmo grupo em diferentes pontos no tempo. Por exemplo, um hospital pode querer testar se um medicamento para perda de peso funciona verificando os pesos dos mesmos pacientes do grupo antes e depois do tratamento. Um teste t pareado permite verificar se os meios das amostras do mesmo grupo são diferentes.\n",
    "Podemos realizar um teste t pareado usando a função scipy stats.ttest_rel (). Vamos gerar alguns dados de peso do paciente e fazer um teste t pareado:"
   ]
  },
  {
   "cell_type": "code",
   "execution_count": 25,
   "metadata": {},
   "outputs": [
    {
     "data": {
      "text/html": [
       "<div>\n",
       "<style scoped>\n",
       "    .dataframe tbody tr th:only-of-type {\n",
       "        vertical-align: middle;\n",
       "    }\n",
       "\n",
       "    .dataframe tbody tr th {\n",
       "        vertical-align: top;\n",
       "    }\n",
       "\n",
       "    .dataframe thead th {\n",
       "        text-align: right;\n",
       "    }\n",
       "</style>\n",
       "<table border=\"1\" class=\"dataframe\">\n",
       "  <thead>\n",
       "    <tr style=\"text-align: right;\">\n",
       "      <th></th>\n",
       "      <th>weight_before</th>\n",
       "      <th>weight_after</th>\n",
       "      <th>weight_change</th>\n",
       "    </tr>\n",
       "  </thead>\n",
       "  <tbody>\n",
       "    <tr>\n",
       "      <th>count</th>\n",
       "      <td>100.000000</td>\n",
       "      <td>100.000000</td>\n",
       "      <td>100.000000</td>\n",
       "    </tr>\n",
       "    <tr>\n",
       "      <th>mean</th>\n",
       "      <td>100.345546</td>\n",
       "      <td>99.115171</td>\n",
       "      <td>-1.230375</td>\n",
       "    </tr>\n",
       "    <tr>\n",
       "      <th>std</th>\n",
       "      <td>28.132539</td>\n",
       "      <td>28.422183</td>\n",
       "      <td>4.783696</td>\n",
       "    </tr>\n",
       "    <tr>\n",
       "      <th>min</th>\n",
       "      <td>20.400443</td>\n",
       "      <td>15.913930</td>\n",
       "      <td>-11.495286</td>\n",
       "    </tr>\n",
       "    <tr>\n",
       "      <th>25%</th>\n",
       "      <td>80.421042</td>\n",
       "      <td>79.148236</td>\n",
       "      <td>-4.046211</td>\n",
       "    </tr>\n",
       "    <tr>\n",
       "      <th>50%</th>\n",
       "      <td>100.830805</td>\n",
       "      <td>101.134089</td>\n",
       "      <td>-1.413463</td>\n",
       "    </tr>\n",
       "    <tr>\n",
       "      <th>75%</th>\n",
       "      <td>120.637145</td>\n",
       "      <td>118.927258</td>\n",
       "      <td>1.738673</td>\n",
       "    </tr>\n",
       "    <tr>\n",
       "      <th>max</th>\n",
       "      <td>164.700233</td>\n",
       "      <td>166.720357</td>\n",
       "      <td>9.759282</td>\n",
       "    </tr>\n",
       "  </tbody>\n",
       "</table>\n",
       "</div>"
      ],
      "text/plain": [
       "       weight_before  weight_after  weight_change\n",
       "count     100.000000    100.000000     100.000000\n",
       "mean      100.345546     99.115171      -1.230375\n",
       "std        28.132539     28.422183       4.783696\n",
       "min        20.400443     15.913930     -11.495286\n",
       "25%        80.421042     79.148236      -4.046211\n",
       "50%       100.830805    101.134089      -1.413463\n",
       "75%       120.637145    118.927258       1.738673\n",
       "max       164.700233    166.720357       9.759282"
      ]
     },
     "execution_count": 25,
     "metadata": {},
     "output_type": "execute_result"
    }
   ],
   "source": [
    "np.random.seed(11)\n",
    "\n",
    "before= stats.norm.rvs(scale=30, loc=100, size=100)\n",
    "\n",
    "after = before + stats.norm.rvs(scale=5, loc=-1.25, size=100)\n",
    "\n",
    "weight_df = pd.DataFrame({\"weight_before\":before,\n",
    "                          \"weight_after\":after,\n",
    "                          \"weight_change\":after-before})\n",
    "\n",
    "weight_df.describe()             # Check a summary of the data"
   ]
  },
  {
   "cell_type": "markdown",
   "metadata": {},
   "source": [
    "O resumo mostra que os pacientes perderam cerca de 1,23 Kg, em média, após o tratamento. Vamos realizar um teste t pareado para ver se essa diferença é significativa em um nível de confiança de 95%:\n"
   ]
  },
  {
   "cell_type": "code",
   "execution_count": 26,
   "metadata": {},
   "outputs": [
    {
     "data": {
      "text/plain": [
       "Ttest_relResult(statistic=2.5720175998568324, pvalue=0.011596444318439746)"
      ]
     },
     "execution_count": 26,
     "metadata": {},
     "output_type": "execute_result"
    }
   ],
   "source": [
    "stats.ttest_rel(a = before,\n",
    "                b = after)"
   ]
  },
  {
   "cell_type": "markdown",
   "metadata": {},
   "source": [
    "O p valor na saída do teste mostra que as chances de ver essa grande diferença entre as amostras devido ao acaso é de pouco mais de 1%."
   ]
  },
  {
   "cell_type": "markdown",
   "metadata": {},
   "source": [
    "O resultado de um teste de hipóteses e a decisão correspondente de rejeitar ou não rejeitar a hipótese nula não é infalível. Um teste fornece evidência a favor ou contra a hipótese nula e, em seguida, você decide se aceita ou Não aceita com base nessa evidência, mas a evidência pode não ter a força para chegar à conclusão correta. \n",
    "\n",
    "Conclusões incorretas feitas a partir de testes de hipótese se enquadram em uma das duas categorias: erro tipo I e erro tipo II.\n",
    "* Erro tipo I descreve uma situação em que você rejeita a hipótese nula quando ela é realmente verdadeira. Esse tipo de erro também é conhecido como \"falso positivo\". A taxa de erro tipo 1 é igual ao nível de significância α, portanto, definir um nível de confiança mais alto (e, portanto, menor alpha) reduz as chances de obter um falso positivo.\n",
    "* O erro tipo II descreve uma situação em que você não rejeita a hipótese nula quando ela é realmente falsa. O erro do tipo II também é conhecido como \"falso negativo\". Quanto maior o seu nível de confiança, maior a probabilidade de você cometer um erro do tipo II."
   ]
  },
  {
   "cell_type": "code",
   "execution_count": null,
   "metadata": {},
   "outputs": [],
   "source": []
  }
 ],
 "metadata": {
  "kernelspec": {
   "display_name": "Python 3",
   "language": "python",
   "name": "python3"
  },
  "language_info": {
   "codemirror_mode": {
    "name": "ipython",
    "version": 3
   },
   "file_extension": ".py",
   "mimetype": "text/x-python",
   "name": "python",
   "nbconvert_exporter": "python",
   "pygments_lexer": "ipython3",
   "version": "3.7.3"
  }
 },
 "nbformat": 4,
 "nbformat_minor": 4
}
