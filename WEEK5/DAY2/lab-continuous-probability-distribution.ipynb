{
 "cells": [
  {
   "cell_type": "markdown",
   "metadata": {},
   "source": [
    "# Before your start:\n",
    "\n",
    "    Read the README.md file\n",
    "    Comment as much as you can and use the resources (README.md file)\n",
    "    Happy learning!"
   ]
  },
  {
   "cell_type": "markdown",
   "metadata": {},
   "source": [
    "In this exercise, we  will generate random numbers from the continuous disributions we learned in the lesson. There are two ways to generate random numbers:\n",
    "\n",
    "1. Using the numpy library \n",
    "1. using the Scipy library \n",
    "\n",
    "Use either or both of the lbraries in this exercise."
   ]
  },
  {
   "cell_type": "markdown",
   "metadata": {},
   "source": [
    "## Uniform Distribution\n",
    "\n",
    "To generate uniform random numbers between any two given values using scipy, we can either use the following code or the code that we have\n",
    "discussed in class:"
   ]
  },
  {
   "cell_type": "code",
   "execution_count": 42,
   "metadata": {},
   "outputs": [],
   "source": [
    "import numpy as np\n",
    "import pandas as pd"
   ]
  },
  {
   "cell_type": "code",
   "execution_count": 5,
   "metadata": {},
   "outputs": [
    {
     "name": "stdout",
     "output_type": "stream",
     "text": [
      "[2.53607615 2.39395714 2.79026645 2.74890204 2.67923963 2.54372021\n",
      " 2.56350206 2.07151764 2.44482119 2.53422243]\n"
     ]
    }
   ],
   "source": [
    "from scipy.stats import uniform\n",
    "x = uniform.rvs(size=10)\n",
    "a = 2\n",
    "b = 3\n",
    "randoms  = a + (b-a)*x\n",
    "print(randoms)"
   ]
  },
  {
   "cell_type": "markdown",
   "metadata": {},
   "source": [
    "**Your task:**\n",
    "\n",
    "1. Based on the code above, write a function that generates uniformly distributed random numbers. There are several requirements for your function:\n",
    "    * It should accept 3 parameters: \n",
    "        * `bottom` - the lower boundary of the generated numbers\n",
    "        * `ceiling` - the upper boundary of the generated numbers\n",
    "        * `count` - how many numbers to generate\n",
    "    * It should return an array of uniformly distributed random numbers\n",
    "\n",
    "1. Call your function with 2 sets of params below:\n",
    "    * bottom=10, ceiling=15, count=100\n",
    "    * bottom=10, ceiling=60, count=1,000\n",
    "\n",
    "1. Plot the uniform distributions generated above using histograms, where x axis is the value and y axis is the count. Let the histogram's number of bins be 10.\n",
    "\n",
    "Your output should look like below:\n",
    "\n",
    "![uniform distribution](ud.png)"
   ]
  },
  {
   "cell_type": "code",
   "execution_count": 6,
   "metadata": {},
   "outputs": [],
   "source": [
    "# your code here\n",
    "\n",
    "# set 1\n",
    "bottom1=10 # lowest value\n",
    "celling1=15 # highest value\n",
    "count1=100 # number of elements\n",
    "\n",
    "# set 2\n",
    "bottom2=10 # lowest value\n",
    "celling2=60 # highest value\n",
    "count2=1000 # number of elements"
   ]
  },
  {
   "cell_type": "markdown",
   "metadata": {},
   "source": [
    "How are the two distributions different?"
   ]
  },
  {
   "cell_type": "code",
   "execution_count": 27,
   "metadata": {},
   "outputs": [],
   "source": [
    "# your answer below\n",
    "\n",
    "set1 = np.random.uniform(bottom1, celling1, count1)\n",
    "set2 = np.random.uniform(bottom2, celling2, count2)"
   ]
  },
  {
   "cell_type": "code",
   "execution_count": 39,
   "metadata": {},
   "outputs": [
    {
     "data": {
      "text/plain": [
       "Text(0.5, 1.0, 'set2')"
      ]
     },
     "execution_count": 39,
     "metadata": {},
     "output_type": "execute_result"
    },
    {
     "data": {
      "image/png": "[encoded data removed]",
      "text/plain": [
       "<Figure size 1080x360 with 2 Axes>"
      ]
     },
     "metadata": {
      "needs_background": "light"
     },
     "output_type": "display_data"
    }
   ],
   "source": [
    "# plot the chart\n",
    "fig, (chart1, chart2) = plt.subplots(\n",
    "    # define the position of each chart\n",
    "    1,2,\n",
    "    # define y as a shared axis in order to compare the resultss\n",
    "    sharey=True,\n",
    "    figsize=(15, 5))\n",
    "\n",
    "# plot a histogran with title\n",
    "chart1.hist(set1, bins=30)\n",
    "chart1.set_title('set1')\n",
    "\n",
    "chart2.hist(set2, bins=30)\n",
    "chart2.set_title('set2')"
   ]
  },
  {
   "cell_type": "code",
   "execution_count": 34,
   "metadata": {},
   "outputs": [
    {
     "data": {
      "text/plain": [
       "(array([12.,  6., 12., 12.,  9., 10., 10., 11., 10.,  8.]),\n",
       " array([10.07243731, 10.56449054, 11.05654376, 11.54859698, 12.04065021,\n",
       "        12.53270343, 13.02475666, 13.51680988, 14.0088631 , 14.50091633,\n",
       "        14.99296955]),\n",
       " <a list of 10 Patch objects>)"
      ]
     },
     "execution_count": 34,
     "metadata": {},
     "output_type": "execute_result"
    },
    {
     "data": {
      "image/png": "[encoded data removed]",
      "text/plain": [
       "<Figure size 432x288 with 1 Axes>"
      ]
     },
     "metadata": {
      "needs_background": "light"
     },
     "output_type": "display_data"
    }
   ],
   "source": [
    "plt.hist(set1)"
   ]
  },
  {
   "cell_type": "code",
   "execution_count": 32,
   "metadata": {},
   "outputs": [
    {
     "data": {
      "text/plain": [
       "(array([ 91., 111., 115.,  87., 108.,  82.,  97.,  97.,  95., 117.]),\n",
       " array([10.056203  , 15.05007974, 20.04395648, 25.03783322, 30.03170996,\n",
       "        35.0255867 , 40.01946344, 45.01334018, 50.00721692, 55.00109366,\n",
       "        59.9949704 ]),\n",
       " <a list of 10 Patch objects>)"
      ]
     },
     "execution_count": 32,
     "metadata": {},
     "output_type": "execute_result"
    },
    {
     "data": {
      "image/png": "[encoded data removed]",
      "text/plain": [
       "<Figure size 432x288 with 1 Axes>"
      ]
     },
     "metadata": {
      "needs_background": "light"
     },
     "output_type": "display_data"
    }
   ],
   "source": [
    "plt.hist(set1)\n",
    "plt.hist(set2)"
   ]
  },
  {
   "cell_type": "markdown",
   "metadata": {},
   "source": [
    "## Normal Distribution\n",
    "\n",
    "1. In the same way in the Uniform Distribution challenge, write a function that generates normally distributed random numbers.\n",
    "1. Generate 1,000 normally distributed numbers with the average of 10 and standard deviation of 1\n",
    "1. Generate 1,000 normally distributed numbers with the average of 10 and standard deviation of 50\n",
    "2. Plot the distributions of the data generated.\n",
    "\n",
    "Expected output:\n",
    "\n",
    "![normal distribution](nd.png)"
   ]
  },
  {
   "cell_type": "code",
   "execution_count": 35,
   "metadata": {},
   "outputs": [],
   "source": [
    "# your code here\n",
    "mu1 = 10\n",
    "sigma1 = 1\n",
    "distribution1 = 1000\n",
    "\n",
    "mu2 = 10\n",
    "sigma2 = 50\n",
    "distribution2 = 1000\n",
    "\n",
    "\n",
    "set_n1 = np.random.normal(mu1, sigma1, distribution1)\n",
    "set_n2 = np.random.normal(mu2, sigma2, distribution2)"
   ]
  },
  {
   "cell_type": "markdown",
   "metadata": {},
   "source": [
    "How are the two distributions different?"
   ]
  },
  {
   "cell_type": "code",
   "execution_count": 40,
   "metadata": {},
   "outputs": [
    {
     "data": {
      "text/plain": [
       "Text(0.5, 1.0, 'normal - 2')"
      ]
     },
     "execution_count": 40,
     "metadata": {},
     "output_type": "execute_result"
    },
    {
     "data": {
      "image/png": "[encoded data removed]",
      "text/plain": [
       "<Figure size 432x288 with 2 Axes>"
      ]
     },
     "metadata": {
      "needs_background": "light"
     },
     "output_type": "display_data"
    }
   ],
   "source": [
    "# your answer below\n",
    "fig, (norm1, norm2) = plt.subplots(1, 2, sharey = True)\n",
    "\n",
    "norm1.hist(set_n1, bins=50)\n",
    "norm1.set_title('normal - 1')\n",
    "\n",
    "norm2.hist(set_n2, bins=50);\n",
    "norm2.set_title('normal - 2')"
   ]
  },
  {
   "cell_type": "markdown",
   "metadata": {},
   "source": [
    "## Normal Distribution of Real Data\n",
    "\n",
    "In this challenge we are going to take a look the real data. We will use vehicles.csv file for this exercise"
   ]
  },
  {
   "cell_type": "markdown",
   "metadata": {},
   "source": [
    "First import vehicles.csv.\n",
    "Then plot the histograms for the following variables:\n",
    "\n",
    "1. Fuel Barrels/Year"
   ]
  },
  {
   "cell_type": "code",
   "execution_count": 56,
   "metadata": {},
   "outputs": [
    {
     "data": {
      "text/html": [
       "<div>\n",
       "<style scoped>\n",
       "    .dataframe tbody tr th:only-of-type {\n",
       "        vertical-align: middle;\n",
       "    }\n",
       "\n",
       "    .dataframe tbody tr th {\n",
       "        vertical-align: top;\n",
       "    }\n",
       "\n",
       "    .dataframe thead th {\n",
       "        text-align: right;\n",
       "    }\n",
       "</style>\n",
       "<table border=\"1\" class=\"dataframe\">\n",
       "  <thead>\n",
       "    <tr style=\"text-align: right;\">\n",
       "      <th></th>\n",
       "      <th>Make</th>\n",
       "      <th>Model</th>\n",
       "      <th>Year</th>\n",
       "      <th>Engine Displacement</th>\n",
       "      <th>Cylinders</th>\n",
       "      <th>Transmission</th>\n",
       "      <th>Drivetrain</th>\n",
       "      <th>Vehicle Class</th>\n",
       "      <th>Fuel Type</th>\n",
       "      <th>Fuel Barrels/Year</th>\n",
       "      <th>City MPG</th>\n",
       "      <th>Highway MPG</th>\n",
       "      <th>Combined MPG</th>\n",
       "      <th>CO2 Emission Grams/Mile</th>\n",
       "      <th>Fuel Cost/Year</th>\n",
       "    </tr>\n",
       "  </thead>\n",
       "  <tbody>\n",
       "    <tr>\n",
       "      <th>0</th>\n",
       "      <td>AM General</td>\n",
       "      <td>DJ Po Vehicle 2WD</td>\n",
       "      <td>1984</td>\n",
       "      <td>2.5</td>\n",
       "      <td>4.0</td>\n",
       "      <td>Automatic 3-spd</td>\n",
       "      <td>2-Wheel Drive</td>\n",
       "      <td>Special Purpose Vehicle 2WD</td>\n",
       "      <td>Regular</td>\n",
       "      <td>19.388824</td>\n",
       "      <td>18</td>\n",
       "      <td>17</td>\n",
       "      <td>17</td>\n",
       "      <td>522.764706</td>\n",
       "      <td>1950</td>\n",
       "    </tr>\n",
       "    <tr>\n",
       "      <th>1</th>\n",
       "      <td>AM General</td>\n",
       "      <td>FJ8c Post Office</td>\n",
       "      <td>1984</td>\n",
       "      <td>4.2</td>\n",
       "      <td>6.0</td>\n",
       "      <td>Automatic 3-spd</td>\n",
       "      <td>2-Wheel Drive</td>\n",
       "      <td>Special Purpose Vehicle 2WD</td>\n",
       "      <td>Regular</td>\n",
       "      <td>25.354615</td>\n",
       "      <td>13</td>\n",
       "      <td>13</td>\n",
       "      <td>13</td>\n",
       "      <td>683.615385</td>\n",
       "      <td>2550</td>\n",
       "    </tr>\n",
       "    <tr>\n",
       "      <th>2</th>\n",
       "      <td>AM General</td>\n",
       "      <td>Post Office DJ5 2WD</td>\n",
       "      <td>1985</td>\n",
       "      <td>2.5</td>\n",
       "      <td>4.0</td>\n",
       "      <td>Automatic 3-spd</td>\n",
       "      <td>Rear-Wheel Drive</td>\n",
       "      <td>Special Purpose Vehicle 2WD</td>\n",
       "      <td>Regular</td>\n",
       "      <td>20.600625</td>\n",
       "      <td>16</td>\n",
       "      <td>17</td>\n",
       "      <td>16</td>\n",
       "      <td>555.437500</td>\n",
       "      <td>2100</td>\n",
       "    </tr>\n",
       "  </tbody>\n",
       "</table>\n",
       "</div>"
      ],
      "text/plain": [
       "         Make                Model  Year  Engine Displacement  Cylinders  \\\n",
       "0  AM General    DJ Po Vehicle 2WD  1984                  2.5        4.0   \n",
       "1  AM General     FJ8c Post Office  1984                  4.2        6.0   \n",
       "2  AM General  Post Office DJ5 2WD  1985                  2.5        4.0   \n",
       "\n",
       "      Transmission        Drivetrain                Vehicle Class Fuel Type  \\\n",
       "0  Automatic 3-spd     2-Wheel Drive  Special Purpose Vehicle 2WD   Regular   \n",
       "1  Automatic 3-spd     2-Wheel Drive  Special Purpose Vehicle 2WD   Regular   \n",
       "2  Automatic 3-spd  Rear-Wheel Drive  Special Purpose Vehicle 2WD   Regular   \n",
       "\n",
       "   Fuel Barrels/Year  City MPG  Highway MPG  Combined MPG  \\\n",
       "0          19.388824        18           17            17   \n",
       "1          25.354615        13           13            13   \n",
       "2          20.600625        16           17            16   \n",
       "\n",
       "   CO2 Emission Grams/Mile  Fuel Cost/Year  \n",
       "0               522.764706            1950  \n",
       "1               683.615385            2550  \n",
       "2               555.437500            2100  "
      ]
     },
     "execution_count": 56,
     "metadata": {},
     "output_type": "execute_result"
    }
   ],
   "source": [
    "vehicles = pd.read_csv('vehicles.csv')\n",
    "vehicles.head(3)"
   ]
  },
  {
   "cell_type": "code",
   "execution_count": 54,
   "metadata": {},
   "outputs": [
    {
     "data": {
      "text/plain": [
       "<matplotlib.axes._subplots.AxesSubplot at 0x1a182dd400>"
      ]
     },
     "execution_count": 54,
     "metadata": {},
     "output_type": "execute_result"
    },
    {
     "data": {
      "image/png": "[encoded data removed]",
      "text/plain": [
       "<Figure size 432x288 with 1 Axes>"
      ]
     },
     "metadata": {
      "needs_background": "light"
     },
     "output_type": "display_data"
    }
   ],
   "source": [
    "# your code here\n",
    "\n",
    "vehicles['Fuel Barrels/Year'].hist(bins=40)"
   ]
  },
  {
   "cell_type": "markdown",
   "metadata": {},
   "source": [
    "2. CO2 Emission Grams/Mile "
   ]
  },
  {
   "cell_type": "code",
   "execution_count": 57,
   "metadata": {},
   "outputs": [
    {
     "data": {
      "text/plain": [
       "<matplotlib.axes._subplots.AxesSubplot at 0x1a1a081ba8>"
      ]
     },
     "execution_count": 57,
     "metadata": {},
     "output_type": "execute_result"
    },
    {
     "data": {
      "image/png": "[encoded data removed]",
      "text/plain": [
       "<Figure size 432x288 with 1 Axes>"
      ]
     },
     "metadata": {
      "needs_background": "light"
     },
     "output_type": "display_data"
    }
   ],
   "source": [
    "# your code here\n",
    "vehicles['CO2 Emission Grams/Mile'].hist(bins=40)"
   ]
  },
  {
   "cell_type": "markdown",
   "metadata": {},
   "source": [
    "3. Combined MPG"
   ]
  },
  {
   "cell_type": "code",
   "execution_count": 58,
   "metadata": {},
   "outputs": [
    {
     "data": {
      "text/plain": [
       "<matplotlib.axes._subplots.AxesSubplot at 0x1a19a342b0>"
      ]
     },
     "execution_count": 58,
     "metadata": {},
     "output_type": "execute_result"
    },
    {
     "data": {
      "image/png": "[encoded data removed]",
      "text/plain": [
       "<Figure size 432x288 with 1 Axes>"
      ]
     },
     "metadata": {
      "needs_background": "light"
     },
     "output_type": "display_data"
    }
   ],
   "source": [
    "# your code here\n",
    "vehicles['Combined MPG'].hist(bins=40)"
   ]
  },
  {
   "cell_type": "markdown",
   "metadata": {},
   "source": [
    "Which one(s) of the variables are nearly normally distributed? How do you know?"
   ]
  },
  {
   "cell_type": "code",
   "execution_count": 123,
   "metadata": {},
   "outputs": [],
   "source": [
    "list_col1 = np.array(vehicles['Fuel Barrels/Year'])\n",
    "list_col2 = np.array(vehicles['Combined MPG'])\n",
    "list_col3 = np.array(vehicles['CO2 Emission Grams/Mile'])"
   ]
  },
  {
   "cell_type": "code",
   "execution_count": 126,
   "metadata": {},
   "outputs": [
    {
     "data": {
      "text/plain": [
       "[<bound method IndexOpsMixin.to_numpy of 0        19.388824\n",
       " 1        25.354615\n",
       " 2        20.600625\n",
       " 3        25.354615\n",
       " 4        20.600625\n",
       " 5        14.982273\n",
       " 6        13.733750\n",
       " 7        16.480500\n",
       " 8        14.982273\n",
       " 9        13.733750\n",
       " 10       16.480500\n",
       " 11       14.982273\n",
       " 12       13.733750\n",
       " 13       16.480500\n",
       " 14       16.480500\n",
       " 15       16.480500\n",
       " 16       17.347895\n",
       " 17       16.480500\n",
       " 18       17.347895\n",
       " 19       16.480500\n",
       " 20       17.347895\n",
       " 21       16.480500\n",
       " 22       15.695714\n",
       " 23       16.480500\n",
       " 24       15.695714\n",
       " 25       16.480500\n",
       " 26       16.480500\n",
       " 27       16.480500\n",
       " 28       15.695714\n",
       " 29       15.695714\n",
       "            ...    \n",
       " 35922    29.964545\n",
       " 35923    29.964545\n",
       " 35924    12.677308\n",
       " 35925    13.733750\n",
       " 35926    14.330870\n",
       " 35927    13.184400\n",
       " 35928    12.677308\n",
       " 35929    12.677308\n",
       " 35930    13.184400\n",
       " 35931    13.184400\n",
       " 35932     9.155833\n",
       " 35933     9.155833\n",
       " 35934     9.155833\n",
       " 35935     9.155833\n",
       " 35936     9.155833\n",
       " 35937     9.155833\n",
       " 35938     9.417429\n",
       " 35939     9.694412\n",
       " 35940     9.155833\n",
       " 35941     9.155833\n",
       " 35942     9.155833\n",
       " 35943     9.155833\n",
       " 35944     9.155833\n",
       " 35945     9.155833\n",
       " 35946     9.155833\n",
       " 35947     9.155833\n",
       " 35948     9.155833\n",
       " 35949     9.155833\n",
       " 35950     9.155833\n",
       " 35951     9.417429\n",
       " Name: Fuel Barrels/Year, Length: 35952, dtype: float64>,\n",
       " <bound method IndexOpsMixin.to_numpy of 0        17\n",
       " 1        13\n",
       " 2        16\n",
       " 3        13\n",
       " 4        16\n",
       " 5        22\n",
       " 6        24\n",
       " 7        20\n",
       " 8        22\n",
       " 9        24\n",
       " 10       20\n",
       " 11       22\n",
       " 12       24\n",
       " 13       20\n",
       " 14       20\n",
       " 15       20\n",
       " 16       19\n",
       " 17       20\n",
       " 18       19\n",
       " 19       20\n",
       " 20       19\n",
       " 21       20\n",
       " 22       21\n",
       " 23       20\n",
       " 24       21\n",
       " 25       20\n",
       " 26       20\n",
       " 27       20\n",
       " 28       21\n",
       " 29       21\n",
       "          ..\n",
       " 35922    11\n",
       " 35923    11\n",
       " 35924    26\n",
       " 35925    24\n",
       " 35926    23\n",
       " 35927    25\n",
       " 35928    26\n",
       " 35929    26\n",
       " 35930    25\n",
       " 35931    25\n",
       " 35932    36\n",
       " 35933    36\n",
       " 35934    36\n",
       " 35935    36\n",
       " 35936    36\n",
       " 35937    36\n",
       " 35938    35\n",
       " 35939    34\n",
       " 35940    36\n",
       " 35941    36\n",
       " 35942    36\n",
       " 35943    36\n",
       " 35944    36\n",
       " 35945    36\n",
       " 35946    36\n",
       " 35947    36\n",
       " 35948    36\n",
       " 35949    36\n",
       " 35950    36\n",
       " 35951    35\n",
       " Name: Combined MPG, Length: 35952, dtype: int64>,\n",
       " <bound method IndexOpsMixin.to_numpy of 0        522.764706\n",
       " 1        683.615385\n",
       " 2        555.437500\n",
       " 3        683.615385\n",
       " 4        555.437500\n",
       " 5        403.954545\n",
       " 6        370.291667\n",
       " 7        444.350000\n",
       " 8        403.954545\n",
       " 9        370.291667\n",
       " 10       444.350000\n",
       " 11       403.954545\n",
       " 12       370.291667\n",
       " 13       444.350000\n",
       " 14       444.350000\n",
       " 15       444.350000\n",
       " 16       467.736842\n",
       " 17       444.350000\n",
       " 18       467.736842\n",
       " 19       444.350000\n",
       " 20       467.736842\n",
       " 21       444.350000\n",
       " 22       423.190476\n",
       " 23       444.350000\n",
       " 24       423.190476\n",
       " 25       444.350000\n",
       " 26       444.350000\n",
       " 27       444.350000\n",
       " 28       423.190476\n",
       " 29       423.190476\n",
       "             ...    \n",
       " 35922    807.909091\n",
       " 35923    807.909091\n",
       " 35924    341.807692\n",
       " 35925    370.291667\n",
       " 35926    386.391304\n",
       " 35927    355.480000\n",
       " 35928    341.807692\n",
       " 35929    341.807692\n",
       " 35930    355.480000\n",
       " 35931    355.480000\n",
       " 35932    246.861111\n",
       " 35933    246.861111\n",
       " 35934    246.861111\n",
       " 35935    244.000000\n",
       " 35936    243.000000\n",
       " 35937    244.000000\n",
       " 35938    251.000000\n",
       " 35939    258.000000\n",
       " 35940    246.861111\n",
       " 35941    246.861111\n",
       " 35942    246.861111\n",
       " 35943    246.861111\n",
       " 35944    246.861111\n",
       " 35945    246.861111\n",
       " 35946    246.861111\n",
       " 35947    244.000000\n",
       " 35948    243.000000\n",
       " 35949    244.000000\n",
       " 35950    246.000000\n",
       " 35951    255.000000\n",
       " Name: CO2 Emission Grams/Mile, Length: 35952, dtype: float64>,\n",
       " <bound method IndexOpsMixin.to_numpy of 0        19.388824\n",
       " 1        25.354615\n",
       " 2        20.600625\n",
       " 3        25.354615\n",
       " 4        20.600625\n",
       " 5        14.982273\n",
       " 6        13.733750\n",
       " 7        16.480500\n",
       " 8        14.982273\n",
       " 9        13.733750\n",
       " 10       16.480500\n",
       " 11       14.982273\n",
       " 12       13.733750\n",
       " 13       16.480500\n",
       " 14       16.480500\n",
       " 15       16.480500\n",
       " 16       17.347895\n",
       " 17       16.480500\n",
       " 18       17.347895\n",
       " 19       16.480500\n",
       " 20       17.347895\n",
       " 21       16.480500\n",
       " 22       15.695714\n",
       " 23       16.480500\n",
       " 24       15.695714\n",
       " 25       16.480500\n",
       " 26       16.480500\n",
       " 27       16.480500\n",
       " 28       15.695714\n",
       " 29       15.695714\n",
       "            ...    \n",
       " 35922    29.964545\n",
       " 35923    29.964545\n",
       " 35924    12.677308\n",
       " 35925    13.733750\n",
       " 35926    14.330870\n",
       " 35927    13.184400\n",
       " 35928    12.677308\n",
       " 35929    12.677308\n",
       " 35930    13.184400\n",
       " 35931    13.184400\n",
       " 35932     9.155833\n",
       " 35933     9.155833\n",
       " 35934     9.155833\n",
       " 35935     9.155833\n",
       " 35936     9.155833\n",
       " 35937     9.155833\n",
       " 35938     9.417429\n",
       " 35939     9.694412\n",
       " 35940     9.155833\n",
       " 35941     9.155833\n",
       " 35942     9.155833\n",
       " 35943     9.155833\n",
       " 35944     9.155833\n",
       " 35945     9.155833\n",
       " 35946     9.155833\n",
       " 35947     9.155833\n",
       " 35948     9.155833\n",
       " 35949     9.155833\n",
       " 35950     9.155833\n",
       " 35951     9.417429\n",
       " Name: Fuel Barrels/Year, Length: 35952, dtype: float64>,\n",
       " <bound method IndexOpsMixin.to_numpy of 0        17\n",
       " 1        13\n",
       " 2        16\n",
       " 3        13\n",
       " 4        16\n",
       " 5        22\n",
       " 6        24\n",
       " 7        20\n",
       " 8        22\n",
       " 9        24\n",
       " 10       20\n",
       " 11       22\n",
       " 12       24\n",
       " 13       20\n",
       " 14       20\n",
       " 15       20\n",
       " 16       19\n",
       " 17       20\n",
       " 18       19\n",
       " 19       20\n",
       " 20       19\n",
       " 21       20\n",
       " 22       21\n",
       " 23       20\n",
       " 24       21\n",
       " 25       20\n",
       " 26       20\n",
       " 27       20\n",
       " 28       21\n",
       " 29       21\n",
       "          ..\n",
       " 35922    11\n",
       " 35923    11\n",
       " 35924    26\n",
       " 35925    24\n",
       " 35926    23\n",
       " 35927    25\n",
       " 35928    26\n",
       " 35929    26\n",
       " 35930    25\n",
       " 35931    25\n",
       " 35932    36\n",
       " 35933    36\n",
       " 35934    36\n",
       " 35935    36\n",
       " 35936    36\n",
       " 35937    36\n",
       " 35938    35\n",
       " 35939    34\n",
       " 35940    36\n",
       " 35941    36\n",
       " 35942    36\n",
       " 35943    36\n",
       " 35944    36\n",
       " 35945    36\n",
       " 35946    36\n",
       " 35947    36\n",
       " 35948    36\n",
       " 35949    36\n",
       " 35950    36\n",
       " 35951    35\n",
       " Name: Combined MPG, Length: 35952, dtype: int64>,\n",
       " <bound method IndexOpsMixin.to_numpy of 0        522.764706\n",
       " 1        683.615385\n",
       " 2        555.437500\n",
       " 3        683.615385\n",
       " 4        555.437500\n",
       " 5        403.954545\n",
       " 6        370.291667\n",
       " 7        444.350000\n",
       " 8        403.954545\n",
       " 9        370.291667\n",
       " 10       444.350000\n",
       " 11       403.954545\n",
       " 12       370.291667\n",
       " 13       444.350000\n",
       " 14       444.350000\n",
       " 15       444.350000\n",
       " 16       467.736842\n",
       " 17       444.350000\n",
       " 18       467.736842\n",
       " 19       444.350000\n",
       " 20       467.736842\n",
       " 21       444.350000\n",
       " 22       423.190476\n",
       " 23       444.350000\n",
       " 24       423.190476\n",
       " 25       444.350000\n",
       " 26       444.350000\n",
       " 27       444.350000\n",
       " 28       423.190476\n",
       " 29       423.190476\n",
       "             ...    \n",
       " 35922    807.909091\n",
       " 35923    807.909091\n",
       " 35924    341.807692\n",
       " 35925    370.291667\n",
       " 35926    386.391304\n",
       " 35927    355.480000\n",
       " 35928    341.807692\n",
       " 35929    341.807692\n",
       " 35930    355.480000\n",
       " 35931    355.480000\n",
       " 35932    246.861111\n",
       " 35933    246.861111\n",
       " 35934    246.861111\n",
       " 35935    244.000000\n",
       " 35936    243.000000\n",
       " 35937    244.000000\n",
       " 35938    251.000000\n",
       " 35939    258.000000\n",
       " 35940    246.861111\n",
       " 35941    246.861111\n",
       " 35942    246.861111\n",
       " 35943    246.861111\n",
       " 35944    246.861111\n",
       " 35945    246.861111\n",
       " 35946    246.861111\n",
       " 35947    244.000000\n",
       " 35948    243.000000\n",
       " 35949    244.000000\n",
       " 35950    246.000000\n",
       " 35951    255.000000\n",
       " Name: CO2 Emission Grams/Mile, Length: 35952, dtype: float64>,\n",
       " array([19.38882353, 25.35461538, 20.600625  , ...,  9.15583333,\n",
       "         9.15583333,  9.41742857]),\n",
       " <bound method IndexOpsMixin.to_numpy of 0        17\n",
       " 1        13\n",
       " 2        16\n",
       " 3        13\n",
       " 4        16\n",
       " 5        22\n",
       " 6        24\n",
       " 7        20\n",
       " 8        22\n",
       " 9        24\n",
       " 10       20\n",
       " 11       22\n",
       " 12       24\n",
       " 13       20\n",
       " 14       20\n",
       " 15       20\n",
       " 16       19\n",
       " 17       20\n",
       " 18       19\n",
       " 19       20\n",
       " 20       19\n",
       " 21       20\n",
       " 22       21\n",
       " 23       20\n",
       " 24       21\n",
       " 25       20\n",
       " 26       20\n",
       " 27       20\n",
       " 28       21\n",
       " 29       21\n",
       "          ..\n",
       " 35922    11\n",
       " 35923    11\n",
       " 35924    26\n",
       " 35925    24\n",
       " 35926    23\n",
       " 35927    25\n",
       " 35928    26\n",
       " 35929    26\n",
       " 35930    25\n",
       " 35931    25\n",
       " 35932    36\n",
       " 35933    36\n",
       " 35934    36\n",
       " 35935    36\n",
       " 35936    36\n",
       " 35937    36\n",
       " 35938    35\n",
       " 35939    34\n",
       " 35940    36\n",
       " 35941    36\n",
       " 35942    36\n",
       " 35943    36\n",
       " 35944    36\n",
       " 35945    36\n",
       " 35946    36\n",
       " 35947    36\n",
       " 35948    36\n",
       " 35949    36\n",
       " 35950    36\n",
       " 35951    35\n",
       " Name: Combined MPG, Length: 35952, dtype: int64>,\n",
       " <bound method IndexOpsMixin.to_numpy of 0        522.764706\n",
       " 1        683.615385\n",
       " 2        555.437500\n",
       " 3        683.615385\n",
       " 4        555.437500\n",
       " 5        403.954545\n",
       " 6        370.291667\n",
       " 7        444.350000\n",
       " 8        403.954545\n",
       " 9        370.291667\n",
       " 10       444.350000\n",
       " 11       403.954545\n",
       " 12       370.291667\n",
       " 13       444.350000\n",
       " 14       444.350000\n",
       " 15       444.350000\n",
       " 16       467.736842\n",
       " 17       444.350000\n",
       " 18       467.736842\n",
       " 19       444.350000\n",
       " 20       467.736842\n",
       " 21       444.350000\n",
       " 22       423.190476\n",
       " 23       444.350000\n",
       " 24       423.190476\n",
       " 25       444.350000\n",
       " 26       444.350000\n",
       " 27       444.350000\n",
       " 28       423.190476\n",
       " 29       423.190476\n",
       "             ...    \n",
       " 35922    807.909091\n",
       " 35923    807.909091\n",
       " 35924    341.807692\n",
       " 35925    370.291667\n",
       " 35926    386.391304\n",
       " 35927    355.480000\n",
       " 35928    341.807692\n",
       " 35929    341.807692\n",
       " 35930    355.480000\n",
       " 35931    355.480000\n",
       " 35932    246.861111\n",
       " 35933    246.861111\n",
       " 35934    246.861111\n",
       " 35935    244.000000\n",
       " 35936    243.000000\n",
       " 35937    244.000000\n",
       " 35938    251.000000\n",
       " 35939    258.000000\n",
       " 35940    246.861111\n",
       " 35941    246.861111\n",
       " 35942    246.861111\n",
       " 35943    246.861111\n",
       " 35944    246.861111\n",
       " 35945    246.861111\n",
       " 35946    246.861111\n",
       " 35947    244.000000\n",
       " 35948    243.000000\n",
       " 35949    244.000000\n",
       " 35950    246.000000\n",
       " 35951    255.000000\n",
       " Name: CO2 Emission Grams/Mile, Length: 35952, dtype: float64>,\n",
       " array([19.38882353, 25.35461538, 20.600625  , ...,  9.15583333,\n",
       "         9.15583333,  9.41742857]),\n",
       " array([17, 13, 16, ..., 36, 36, 35]),\n",
       " array([522.76470588, 683.61538462, 555.4375    , ..., 244.        ,\n",
       "        246.        , 255.        ]),\n",
       " [array([19.38882353, 25.35461538, 20.600625  , ...,  9.15583333,\n",
       "          9.15583333,  9.41742857])],\n",
       " array([17, 13, 16, ..., 36, 36, 35]),\n",
       " array([522.76470588, 683.61538462, 555.4375    , ..., 244.        ,\n",
       "        246.        , 255.        ]),\n",
       " [array([19.38882353, 25.35461538, 20.600625  , ...,  9.15583333,\n",
       "          9.15583333,  9.41742857])],\n",
       " [array([17, 13, 16, ..., 36, 36, 35])],\n",
       " [array([522.76470588, 683.61538462, 555.4375    , ..., 244.        ,\n",
       "         246.        , 255.        ])]]"
      ]
     },
     "execution_count": 126,
     "metadata": {},
     "output_type": "execute_result"
    }
   ],
   "source": [
    "\n",
    "list_col.append([list_col1])\n",
    "list_col.append([list_col2])\n",
    "list_col.append([list_col3])\n",
    "\n",
    "list_col"
   ]
  },
  {
   "cell_type": "code",
   "execution_count": 127,
   "metadata": {},
   "outputs": [
    {
     "ename": "TypeError",
     "evalue": "unsupported operand type(s) for /: 'method' and 'int'",
     "output_type": "error",
     "traceback": [
      "\u001b[0;31m---------------------------------------------------------------------------\u001b[0m",
      "\u001b[0;31mTypeError\u001b[0m                                 Traceback (most recent call last)",
      "\u001b[0;32m<ipython-input-127-9fa0d3f19ad1>\u001b[0m in \u001b[0;36m<module>\u001b[0;34m\u001b[0m\n\u001b[1;32m      2\u001b[0m \u001b[0;32mfrom\u001b[0m \u001b[0mscipy\u001b[0m \u001b[0;32mimport\u001b[0m \u001b[0mstats\u001b[0m\u001b[0;34m\u001b[0m\u001b[0;34m\u001b[0m\u001b[0m\n\u001b[1;32m      3\u001b[0m \u001b[0;34m\u001b[0m\u001b[0m\n\u001b[0;32m----> 4\u001b[0;31m \u001b[0mtests\u001b[0m \u001b[0;34m=\u001b[0m \u001b[0;34m[\u001b[0m\u001b[0mstats\u001b[0m\u001b[0;34m.\u001b[0m\u001b[0mnormaltest\u001b[0m\u001b[0;34m(\u001b[0m\u001b[0mdist\u001b[0m\u001b[0;34m)\u001b[0m \u001b[0;32mfor\u001b[0m \u001b[0mdist\u001b[0m \u001b[0;32min\u001b[0m \u001b[0mlist_col\u001b[0m\u001b[0;34m]\u001b[0m\u001b[0;34m\u001b[0m\u001b[0;34m\u001b[0m\u001b[0m\n\u001b[0m\u001b[1;32m      5\u001b[0m \u001b[0;34m\u001b[0m\u001b[0m\n\u001b[1;32m      6\u001b[0m \u001b[0mtests\u001b[0m\u001b[0;34m\u001b[0m\u001b[0;34m\u001b[0m\u001b[0m\n",
      "\u001b[0;32m<ipython-input-127-9fa0d3f19ad1>\u001b[0m in \u001b[0;36m<listcomp>\u001b[0;34m(.0)\u001b[0m\n\u001b[1;32m      2\u001b[0m \u001b[0;32mfrom\u001b[0m \u001b[0mscipy\u001b[0m \u001b[0;32mimport\u001b[0m \u001b[0mstats\u001b[0m\u001b[0;34m\u001b[0m\u001b[0;34m\u001b[0m\u001b[0m\n\u001b[1;32m      3\u001b[0m \u001b[0;34m\u001b[0m\u001b[0m\n\u001b[0;32m----> 4\u001b[0;31m \u001b[0mtests\u001b[0m \u001b[0;34m=\u001b[0m \u001b[0;34m[\u001b[0m\u001b[0mstats\u001b[0m\u001b[0;34m.\u001b[0m\u001b[0mnormaltest\u001b[0m\u001b[0;34m(\u001b[0m\u001b[0mdist\u001b[0m\u001b[0;34m)\u001b[0m \u001b[0;32mfor\u001b[0m \u001b[0mdist\u001b[0m \u001b[0;32min\u001b[0m \u001b[0mlist_col\u001b[0m\u001b[0;34m]\u001b[0m\u001b[0;34m\u001b[0m\u001b[0;34m\u001b[0m\u001b[0m\n\u001b[0m\u001b[1;32m      5\u001b[0m \u001b[0;34m\u001b[0m\u001b[0m\n\u001b[1;32m      6\u001b[0m \u001b[0mtests\u001b[0m\u001b[0;34m\u001b[0m\u001b[0;34m\u001b[0m\u001b[0m\n",
      "\u001b[0;32m/anaconda3/lib/python3.7/site-packages/scipy/stats/stats.py\u001b[0m in \u001b[0;36mnormaltest\u001b[0;34m(a, axis, nan_policy)\u001b[0m\n\u001b[1;32m   1509\u001b[0m         \u001b[0;32mreturn\u001b[0m \u001b[0mmstats_basic\u001b[0m\u001b[0;34m.\u001b[0m\u001b[0mnormaltest\u001b[0m\u001b[0;34m(\u001b[0m\u001b[0ma\u001b[0m\u001b[0;34m,\u001b[0m \u001b[0maxis\u001b[0m\u001b[0;34m)\u001b[0m\u001b[0;34m\u001b[0m\u001b[0;34m\u001b[0m\u001b[0m\n\u001b[1;32m   1510\u001b[0m \u001b[0;34m\u001b[0m\u001b[0m\n\u001b[0;32m-> 1511\u001b[0;31m     \u001b[0ms\u001b[0m\u001b[0;34m,\u001b[0m \u001b[0m_\u001b[0m \u001b[0;34m=\u001b[0m \u001b[0mskewtest\u001b[0m\u001b[0;34m(\u001b[0m\u001b[0ma\u001b[0m\u001b[0;34m,\u001b[0m \u001b[0maxis\u001b[0m\u001b[0;34m)\u001b[0m\u001b[0;34m\u001b[0m\u001b[0;34m\u001b[0m\u001b[0m\n\u001b[0m\u001b[1;32m   1512\u001b[0m     \u001b[0mk\u001b[0m\u001b[0;34m,\u001b[0m \u001b[0m_\u001b[0m \u001b[0;34m=\u001b[0m \u001b[0mkurtosistest\u001b[0m\u001b[0;34m(\u001b[0m\u001b[0ma\u001b[0m\u001b[0;34m,\u001b[0m \u001b[0maxis\u001b[0m\u001b[0;34m)\u001b[0m\u001b[0;34m\u001b[0m\u001b[0;34m\u001b[0m\u001b[0m\n\u001b[1;32m   1513\u001b[0m     \u001b[0mk2\u001b[0m \u001b[0;34m=\u001b[0m \u001b[0ms\u001b[0m\u001b[0;34m*\u001b[0m\u001b[0ms\u001b[0m \u001b[0;34m+\u001b[0m \u001b[0mk\u001b[0m\u001b[0;34m*\u001b[0m\u001b[0mk\u001b[0m\u001b[0;34m\u001b[0m\u001b[0;34m\u001b[0m\u001b[0m\n",
      "\u001b[0;32m/anaconda3/lib/python3.7/site-packages/scipy/stats/stats.py\u001b[0m in \u001b[0;36mskewtest\u001b[0;34m(a, axis, nan_policy)\u001b[0m\n\u001b[1;32m   1331\u001b[0m         \u001b[0ma\u001b[0m \u001b[0;34m=\u001b[0m \u001b[0mnp\u001b[0m\u001b[0;34m.\u001b[0m\u001b[0mravel\u001b[0m\u001b[0;34m(\u001b[0m\u001b[0ma\u001b[0m\u001b[0;34m)\u001b[0m\u001b[0;34m\u001b[0m\u001b[0;34m\u001b[0m\u001b[0m\n\u001b[1;32m   1332\u001b[0m         \u001b[0maxis\u001b[0m \u001b[0;34m=\u001b[0m \u001b[0;36m0\u001b[0m\u001b[0;34m\u001b[0m\u001b[0;34m\u001b[0m\u001b[0m\n\u001b[0;32m-> 1333\u001b[0;31m     \u001b[0mb2\u001b[0m \u001b[0;34m=\u001b[0m \u001b[0mskew\u001b[0m\u001b[0;34m(\u001b[0m\u001b[0ma\u001b[0m\u001b[0;34m,\u001b[0m \u001b[0maxis\u001b[0m\u001b[0;34m)\u001b[0m\u001b[0;34m\u001b[0m\u001b[0;34m\u001b[0m\u001b[0m\n\u001b[0m\u001b[1;32m   1334\u001b[0m     \u001b[0mn\u001b[0m \u001b[0;34m=\u001b[0m \u001b[0ma\u001b[0m\u001b[0;34m.\u001b[0m\u001b[0mshape\u001b[0m\u001b[0;34m[\u001b[0m\u001b[0maxis\u001b[0m\u001b[0;34m]\u001b[0m\u001b[0;34m\u001b[0m\u001b[0;34m\u001b[0m\u001b[0m\n\u001b[1;32m   1335\u001b[0m     \u001b[0;32mif\u001b[0m \u001b[0mn\u001b[0m \u001b[0;34m<\u001b[0m \u001b[0;36m8\u001b[0m\u001b[0;34m:\u001b[0m\u001b[0;34m\u001b[0m\u001b[0;34m\u001b[0m\u001b[0m\n",
      "\u001b[0;32m/anaconda3/lib/python3.7/site-packages/scipy/stats/stats.py\u001b[0m in \u001b[0;36mskew\u001b[0;34m(a, axis, bias, nan_policy)\u001b[0m\n\u001b[1;32m   1081\u001b[0m         \u001b[0;32mreturn\u001b[0m \u001b[0mmstats_basic\u001b[0m\u001b[0;34m.\u001b[0m\u001b[0mskew\u001b[0m\u001b[0;34m(\u001b[0m\u001b[0ma\u001b[0m\u001b[0;34m,\u001b[0m \u001b[0maxis\u001b[0m\u001b[0;34m,\u001b[0m \u001b[0mbias\u001b[0m\u001b[0;34m)\u001b[0m\u001b[0;34m\u001b[0m\u001b[0;34m\u001b[0m\u001b[0m\n\u001b[1;32m   1082\u001b[0m \u001b[0;34m\u001b[0m\u001b[0m\n\u001b[0;32m-> 1083\u001b[0;31m     \u001b[0mm2\u001b[0m \u001b[0;34m=\u001b[0m \u001b[0mmoment\u001b[0m\u001b[0;34m(\u001b[0m\u001b[0ma\u001b[0m\u001b[0;34m,\u001b[0m \u001b[0;36m2\u001b[0m\u001b[0;34m,\u001b[0m \u001b[0maxis\u001b[0m\u001b[0;34m)\u001b[0m\u001b[0;34m\u001b[0m\u001b[0;34m\u001b[0m\u001b[0m\n\u001b[0m\u001b[1;32m   1084\u001b[0m     \u001b[0mm3\u001b[0m \u001b[0;34m=\u001b[0m \u001b[0mmoment\u001b[0m\u001b[0;34m(\u001b[0m\u001b[0ma\u001b[0m\u001b[0;34m,\u001b[0m \u001b[0;36m3\u001b[0m\u001b[0;34m,\u001b[0m \u001b[0maxis\u001b[0m\u001b[0;34m)\u001b[0m\u001b[0;34m\u001b[0m\u001b[0;34m\u001b[0m\u001b[0m\n\u001b[1;32m   1085\u001b[0m     \u001b[0mzero\u001b[0m \u001b[0;34m=\u001b[0m \u001b[0;34m(\u001b[0m\u001b[0mm2\u001b[0m \u001b[0;34m==\u001b[0m \u001b[0;36m0\u001b[0m\u001b[0;34m)\u001b[0m\u001b[0;34m\u001b[0m\u001b[0;34m\u001b[0m\u001b[0m\n",
      "\u001b[0;32m/anaconda3/lib/python3.7/site-packages/scipy/stats/stats.py\u001b[0m in \u001b[0;36mmoment\u001b[0;34m(a, moment, axis, nan_policy)\u001b[0m\n\u001b[1;32m    927\u001b[0m         \u001b[0;32mreturn\u001b[0m \u001b[0mnp\u001b[0m\u001b[0;34m.\u001b[0m\u001b[0marray\u001b[0m\u001b[0;34m(\u001b[0m\u001b[0mmmnt\u001b[0m\u001b[0;34m)\u001b[0m\u001b[0;34m\u001b[0m\u001b[0;34m\u001b[0m\u001b[0m\n\u001b[1;32m    928\u001b[0m     \u001b[0;32melse\u001b[0m\u001b[0;34m:\u001b[0m\u001b[0;34m\u001b[0m\u001b[0;34m\u001b[0m\u001b[0m\n\u001b[0;32m--> 929\u001b[0;31m         \u001b[0;32mreturn\u001b[0m \u001b[0m_moment\u001b[0m\u001b[0;34m(\u001b[0m\u001b[0ma\u001b[0m\u001b[0;34m,\u001b[0m \u001b[0mmoment\u001b[0m\u001b[0;34m,\u001b[0m \u001b[0maxis\u001b[0m\u001b[0;34m)\u001b[0m\u001b[0;34m\u001b[0m\u001b[0;34m\u001b[0m\u001b[0m\n\u001b[0m\u001b[1;32m    930\u001b[0m \u001b[0;34m\u001b[0m\u001b[0m\n\u001b[1;32m    931\u001b[0m \u001b[0;34m\u001b[0m\u001b[0m\n",
      "\u001b[0;32m/anaconda3/lib/python3.7/site-packages/scipy/stats/stats.py\u001b[0m in \u001b[0;36m_moment\u001b[0;34m(a, moment, axis)\u001b[0m\n\u001b[1;32m    967\u001b[0m \u001b[0;34m\u001b[0m\u001b[0m\n\u001b[1;32m    968\u001b[0m         \u001b[0;31m# Starting point for exponentiation by squares\u001b[0m\u001b[0;34m\u001b[0m\u001b[0;34m\u001b[0m\u001b[0;34m\u001b[0m\u001b[0m\n\u001b[0;32m--> 969\u001b[0;31m         \u001b[0ma_zero_mean\u001b[0m \u001b[0;34m=\u001b[0m \u001b[0ma\u001b[0m \u001b[0;34m-\u001b[0m \u001b[0mnp\u001b[0m\u001b[0;34m.\u001b[0m\u001b[0mexpand_dims\u001b[0m\u001b[0;34m(\u001b[0m\u001b[0mnp\u001b[0m\u001b[0;34m.\u001b[0m\u001b[0mmean\u001b[0m\u001b[0;34m(\u001b[0m\u001b[0ma\u001b[0m\u001b[0;34m,\u001b[0m \u001b[0maxis\u001b[0m\u001b[0;34m)\u001b[0m\u001b[0;34m,\u001b[0m \u001b[0maxis\u001b[0m\u001b[0;34m)\u001b[0m\u001b[0;34m\u001b[0m\u001b[0;34m\u001b[0m\u001b[0m\n\u001b[0m\u001b[1;32m    970\u001b[0m         \u001b[0;32mif\u001b[0m \u001b[0mn_list\u001b[0m\u001b[0;34m[\u001b[0m\u001b[0;34m-\u001b[0m\u001b[0;36m1\u001b[0m\u001b[0;34m]\u001b[0m \u001b[0;34m==\u001b[0m \u001b[0;36m1\u001b[0m\u001b[0;34m:\u001b[0m\u001b[0;34m\u001b[0m\u001b[0;34m\u001b[0m\u001b[0m\n\u001b[1;32m    971\u001b[0m             \u001b[0ms\u001b[0m \u001b[0;34m=\u001b[0m \u001b[0ma_zero_mean\u001b[0m\u001b[0;34m.\u001b[0m\u001b[0mcopy\u001b[0m\u001b[0;34m(\u001b[0m\u001b[0;34m)\u001b[0m\u001b[0;34m\u001b[0m\u001b[0;34m\u001b[0m\u001b[0m\n",
      "\u001b[0;32m/anaconda3/lib/python3.7/site-packages/numpy/core/fromnumeric.py\u001b[0m in \u001b[0;36mmean\u001b[0;34m(a, axis, dtype, out, keepdims)\u001b[0m\n\u001b[1;32m   3116\u001b[0m \u001b[0;34m\u001b[0m\u001b[0m\n\u001b[1;32m   3117\u001b[0m     return _methods._mean(a, axis=axis, dtype=dtype,\n\u001b[0;32m-> 3118\u001b[0;31m                           out=out, **kwargs)\n\u001b[0m\u001b[1;32m   3119\u001b[0m \u001b[0;34m\u001b[0m\u001b[0m\n\u001b[1;32m   3120\u001b[0m \u001b[0;34m\u001b[0m\u001b[0m\n",
      "\u001b[0;32m/anaconda3/lib/python3.7/site-packages/numpy/core/_methods.py\u001b[0m in \u001b[0;36m_mean\u001b[0;34m(a, axis, dtype, out, keepdims)\u001b[0m\n\u001b[1;32m     85\u001b[0m             \u001b[0mret\u001b[0m \u001b[0;34m=\u001b[0m \u001b[0mret\u001b[0m\u001b[0;34m.\u001b[0m\u001b[0mdtype\u001b[0m\u001b[0;34m.\u001b[0m\u001b[0mtype\u001b[0m\u001b[0;34m(\u001b[0m\u001b[0mret\u001b[0m \u001b[0;34m/\u001b[0m \u001b[0mrcount\u001b[0m\u001b[0;34m)\u001b[0m\u001b[0;34m\u001b[0m\u001b[0;34m\u001b[0m\u001b[0m\n\u001b[1;32m     86\u001b[0m     \u001b[0;32melse\u001b[0m\u001b[0;34m:\u001b[0m\u001b[0;34m\u001b[0m\u001b[0;34m\u001b[0m\u001b[0m\n\u001b[0;32m---> 87\u001b[0;31m         \u001b[0mret\u001b[0m \u001b[0;34m=\u001b[0m \u001b[0mret\u001b[0m \u001b[0;34m/\u001b[0m \u001b[0mrcount\u001b[0m\u001b[0;34m\u001b[0m\u001b[0;34m\u001b[0m\u001b[0m\n\u001b[0m\u001b[1;32m     88\u001b[0m \u001b[0;34m\u001b[0m\u001b[0m\n\u001b[1;32m     89\u001b[0m     \u001b[0;32mreturn\u001b[0m \u001b[0mret\u001b[0m\u001b[0;34m\u001b[0m\u001b[0;34m\u001b[0m\u001b[0m\n",
      "\u001b[0;31mTypeError\u001b[0m: unsupported operand type(s) for /: 'method' and 'int'"
     ]
    }
   ],
   "source": [
    "# your answer here\n",
    "from scipy import stats\n",
    "\n",
    "tests = [stats.normaltest(dist) for dist in list_col]\n",
    "\n",
    "tests"
   ]
  },
  {
   "cell_type": "markdown",
   "metadata": {},
   "source": [
    "## Exponential Distribution"
   ]
  },
  {
   "cell_type": "markdown",
   "metadata": {},
   "source": [
    "1. Using `numpy.random.exponential`, create a function that returns a list of numbers exponentially distributed with the mean of 10. \n",
    "\n",
    "1. Use the function to generate two number sequences with the size of 1 and 100.\n",
    "\n",
    "1. Plot the distributions as histograms with the nubmer of bins as 100.\n",
    "\n",
    "Your output should look like below:\n",
    "\n",
    "![exponential distribution](ed.png)"
   ]
  },
  {
   "cell_type": "code",
   "execution_count": null,
   "metadata": {},
   "outputs": [],
   "source": [
    "# your code here"
   ]
  },
  {
   "cell_type": "markdown",
   "metadata": {},
   "source": [
    "How are the two distributions different?"
   ]
  },
  {
   "cell_type": "code",
   "execution_count": null,
   "metadata": {},
   "outputs": [],
   "source": [
    "# your answer here"
   ]
  },
  {
   "cell_type": "markdown",
   "metadata": {},
   "source": [
    "## Exponential Distribution of Real Data\n",
    "\n",
    "Suppose that the amount of time one spends in a bank is exponentially distributed with mean as 10 minutes (i.e. λ = 1/10). What is the probability that a customer will spend less than fifteen minutes in the bank? \n",
    "\n",
    "Write a code in python to solve this problem"
   ]
  },
  {
   "cell_type": "code",
   "execution_count": 82,
   "metadata": {},
   "outputs": [],
   "source": [
    "# your answer here\n",
    "# Hint: This is same as saying P(x<15)\n",
    "from scipy.stats import expon\n",
    "\n",
    "prob_exp = expon.cdf(15, loc=10)"
   ]
  },
  {
   "cell_type": "markdown",
   "metadata": {},
   "source": [
    "What is the probability that the customer will spend more than 15 minutes"
   ]
  },
  {
   "cell_type": "code",
   "execution_count": null,
   "metadata": {},
   "outputs": [],
   "source": [
    "# your answer here"
   ]
  },
  {
   "cell_type": "code",
   "execution_count": 83,
   "metadata": {},
   "outputs": [
    {
     "data": {
      "text/plain": [
       "0.006737946999085476"
      ]
     },
     "execution_count": 83,
     "metadata": {},
     "output_type": "execute_result"
    }
   ],
   "source": [
    "1 - prob_exp"
   ]
  },
  {
   "cell_type": "code",
   "execution_count": null,
   "metadata": {},
   "outputs": [],
   "source": []
  }
 ],
 "metadata": {
  "kernelspec": {
   "display_name": "Python 3",
   "language": "python",
   "name": "python3"
  },
  "language_info": {
   "codemirror_mode": {
    "name": "ipython",
    "version": 3
   },
   "file_extension": ".py",
   "mimetype": "text/x-python",
   "name": "python",
   "nbconvert_exporter": "python",
   "pygments_lexer": "ipython3",
   "version": "3.7.3"
  }
 },
 "nbformat": 4,
 "nbformat_minor": 2
}
